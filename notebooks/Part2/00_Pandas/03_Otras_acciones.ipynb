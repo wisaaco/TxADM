{
 "cells": [
  {
   "cell_type": "markdown",
   "metadata": {
    "pycharm": {
     "name": "#%% md\n"
    },
    "slideshow": {
     "slide_type": "slide"
    }
   },
   "source": [
    "## Gestionando la ausencia de datos\n",
    "\n",
    "Ocurre con frecuencia que disponemos de catálogos de datos donde hay muestras incompletas.\n",
    "Por ejemplo, los datos obtenidos a partir de encuestas donde se registran preguntas sin responder o sensores que no proporcionan ningún valor viable, etc.\n",
    "\n",
    "**Hay que aceptarlo y saber gestionarlo**\n",
    "\n",
    "```Pandas``` asigna el valor o el código NaN (Not a Number) a los valores desconocidos. Más especificamente, los objetos son designados como: None y las fechas como NaT.\n",
    "\n",
    "Las operaciones que involucren este tipo de datos internamente han de manejar los correspondientes códigos: NaN, None o NaT. ¿Cómo afecta un NaN a una media aritmética?\n",
    "\n",
    "En este capítulo trabajaremos con esta típología de valores.\n"
   ]
  },
  {
   "cell_type": "code",
   "execution_count": 1,
   "metadata": {},
   "outputs": [
    {
     "name": "stdout",
     "output_type": "stream",
     "text": [
      "[ 1.  2. nan  4.  5.  6. nan  8.]\n",
      "nan\n"
     ]
    }
   ],
   "source": [
    "# Y finalmente,  podemos asignar y usar nans\n",
    "import numpy as np\n",
    "datos = np.array([1,2,np.nan,4,5,6,np.nan,8])\n",
    "print(datos)\n",
    "\n",
    "print(datos.mean())\n"
   ]
  },
  {
   "cell_type": "code",
   "execution_count": 2,
   "metadata": {
    "pycharm": {
     "name": "#%%\n"
    }
   },
   "outputs": [],
   "source": [
    "import pandas as pd"
   ]
  },
  {
   "cell_type": "code",
   "execution_count": 8,
   "metadata": {
    "pycharm": {
     "name": "#%%\n"
    },
    "slideshow": {
     "slide_type": "slide"
    }
   },
   "outputs": [
    {
     "data": {
      "text/plain": [
       "Country                            0\n",
       "CountryID                          0\n",
       "Continent                          0\n",
       "Adolescent fertility rate (%)     25\n",
       "Adult literacy rate (%)           71\n",
       "                                  ..\n",
       "Under_five_mortality_from_IHME    32\n",
       "Under_five_mortality_rate         21\n",
       "Urban_population                  14\n",
       "Urban_population_growth           14\n",
       "Urban_population_pct_of_total     14\n",
       "Length: 358, dtype: int64"
      ]
     },
     "execution_count": 8,
     "metadata": {},
     "output_type": "execute_result"
    }
   ],
   "source": [
    "#Empezamos cargando datos: who.csv con 358 columnas!\n",
    "df = pd.read_csv(\"data/who.csv\")\n",
    "df.isna().sum()\n",
    "\n",
    "# df = df[[\"Country\",df.columns[-2]]]\n",
    "# print(df[:5])"
   ]
  },
  {
   "cell_type": "code",
   "execution_count": 66,
   "metadata": {
    "pycharm": {
     "name": "#%%\n"
    },
    "slideshow": {
     "slide_type": "fragment"
    }
   },
   "outputs": [
    {
     "name": "stdout",
     "output_type": "stream",
     "text": [
      "       Country  Urban_population_growth\n",
      "0  Afghanistan                     5.44\n",
      "1      Albania                     2.21\n",
      "2      Algeria                     2.61\n",
      "3      Andorra                      NaN\n",
      "4       Angola                     4.14\n"
     ]
    }
   ],
   "source": [
    "# Como ya sabéis através de la API se puede obtener una descripción más detallada de las posibilidades de cada método de Python, y en especial\n",
    "# de los métodos de Pandas. \n",
    "# Para cargar un fichero de tamaño elevado es recomendable cargar aquellos atributos que nos interesen desde un principio usando el argumento: usecols\n",
    "# https://pandas.pydata.org/pandas-docs/stable/reference/api/pandas.read_csv.html\n",
    "df = pd.read_csv(\"data/who.csv\", usecols=[\"Country\",\"Urban_population_growth\"])\n",
    "print(df[:5])"
   ]
  },
  {
   "cell_type": "code",
   "execution_count": 71,
   "metadata": {},
   "outputs": [
    {
     "data": {
      "text/plain": [
       "Country                     0\n",
       "Urban_population_growth    14\n",
       "dtype: int64"
      ]
     },
     "execution_count": 71,
     "metadata": {},
     "output_type": "execute_result"
    }
   ],
   "source": [
    "# ¿Qué valor corresponde a un NA del dataframe?\n",
    "# https://pandas.pydata.org/docs/reference/api/pandas.DataFrame.isna.html\n",
    "df.isna().sum()"
   ]
  },
  {
   "cell_type": "code",
   "execution_count": null,
   "metadata": {
    "pycharm": {
     "name": "#%%\n"
    },
    "slideshow": {
     "slide_type": "slide"
    }
   },
   "outputs": [
    {
     "name": "stdout",
     "output_type": "stream",
     "text": [
      "Index(['Urban_population_growth'], dtype='object')\n",
      "------------------------------\n",
      "Country                    False\n",
      "Urban_population_growth     True\n",
      "dtype: bool\n"
     ]
    }
   ],
   "source": [
    "#¿Qué columnas tienen datos sin valor: NaN, NaT, None?\n",
    "# https://pandas.pydata.org/docs/reference/api/pandas.DataFrame.any.html\n",
    "\n",
    "print(df.columns[df.isna().any()])\n",
    "\n",
    "# Equivale a preguntar si ¿existe algún valor positivo dentro de esas series?\n",
    "print(\"-\"*30)\n",
    "print(df..any())isna()"
   ]
  },
  {
   "cell_type": "code",
   "execution_count": 31,
   "metadata": {
    "pycharm": {
     "name": "#%%\n"
    },
    "slideshow": {
     "slide_type": "fragment"
    }
   },
   "outputs": [
    {
     "name": "stdout",
     "output_type": "stream",
     "text": [
      "   Country  Urban_population_growth\n",
      "0    False                    False\n",
      "1    False                    False\n",
      "2    False                    False\n",
      "3    False                     True\n",
      "4    False                    False\n"
     ]
    }
   ],
   "source": [
    "#No dudéis en ejecutar \"partes\" (dividamos la instrucción para comprenderla)\n",
    "print(df.isna()[:5])"
   ]
  },
  {
   "cell_type": "code",
   "execution_count": 11,
   "metadata": {},
   "outputs": [
    {
     "data": {
      "text/plain": [
       "Country                    202\n",
       "Urban_population_growth    188\n",
       "dtype: int64"
      ]
     },
     "execution_count": 11,
     "metadata": {},
     "output_type": "execute_result"
    }
   ],
   "source": [
    "#¿Cuántas muestras son correctas? \n",
    "df.notna().sum()\n",
    "# https://pandas.pydata.org/docs/reference/api/pandas.DataFrame.notna.html\n",
    "# y de cuantas muestras?\n"
   ]
  },
  {
   "cell_type": "code",
   "execution_count": 13,
   "metadata": {},
   "outputs": [
    {
     "data": {
      "text/plain": [
       "Country                    202\n",
       "Urban_population_growth    188\n",
       "dtype: int64"
      ]
     },
     "execution_count": 13,
     "metadata": {},
     "output_type": "execute_result"
    }
   ],
   "source": [
    "df.notnull().sum() #ambas funcionas son equivalentes en Pandas, no en numpy"
   ]
  },
  {
   "cell_type": "markdown",
   "metadata": {},
   "source": [
    "### Tratando la ausencia de datos\n",
    "- Ignorando: \"Hay X muestras válidas de tantas\"\n",
    "- Rellenando: reemplazar muestras desconocidas por otros valores: media, valor neutro, etc."
   ]
  },
  {
   "cell_type": "code",
   "execution_count": 39,
   "metadata": {
    "pycharm": {
     "name": "#%%\n"
    },
    "slideshow": {
     "slide_type": "slide"
    }
   },
   "outputs": [
    {
     "name": "stdout",
     "output_type": "stream",
     "text": [
      "       Country  Urban_population_growth\n",
      "0  Afghanistan                     5.44\n",
      "1      Albania                     2.21\n",
      "2      Algeria                     2.61\n",
      "3      Andorra                     0.00\n",
      "4       Angola                     4.14\n"
     ]
    }
   ],
   "source": [
    "#La manera más optima de remplazar estos valores es con la función: fillna\n",
    "print(df.fillna(0)[:5])\n"
   ]
  },
  {
   "cell_type": "code",
   "execution_count": 14,
   "metadata": {
    "pycharm": {
     "name": "#%%\n"
    },
    "slideshow": {
     "slide_type": "fragment"
    }
   },
   "outputs": [],
   "source": [
    "# Si queremos que nuestra variable de dataframe contenga dichas asignaciones recordad asignar la operación a la variable pertinente o a una nueva\n",
    "df = df.fillna(0) "
   ]
  },
  {
   "cell_type": "markdown",
   "metadata": {
    "pycharm": {
     "name": "#%% md\n"
    },
    "slideshow": {
     "slide_type": "slide"
    }
   },
   "source": [
    "### Maneras de rellenar una serie con datos NA\n",
    "\n",
    "Cuando los dataframes contienen números la operabildad con valores perdidos puede gestionarse de manera más eficiente. Pongamos un ejemplo:"
   ]
  },
  {
   "cell_type": "code",
   "execution_count": 5,
   "metadata": {
    "pycharm": {
     "name": "#%%\n"
    },
    "slideshow": {
     "slide_type": "slide"
    }
   },
   "outputs": [
    {
     "name": "stdout",
     "output_type": "stream",
     "text": [
      "        one       two     three\n",
      "a  0.883893  0.195865  0.357537\n",
      "b -2.343262 -1.084833  0.559696\n",
      "c  0.939469 -0.978481  0.503097\n",
      "d  0.406414  0.323461 -0.493411\n",
      "e -0.792017 -0.842368 -1.279503\n"
     ]
    }
   ],
   "source": [
    "import numpy as np\n",
    "\n",
    "np.random.seed(20)\n",
    "\n",
    "#Creamos un dataframe \n",
    "df = pd.DataFrame(np.random.randn(5, 3), \n",
    "                     index=['a', 'b', 'c', 'd', 'e'],\n",
    "                     columns=['one', 'two', 'three'])\n",
    "print(df)"
   ]
  },
  {
   "cell_type": "code",
   "execution_count": 7,
   "metadata": {
    "pycharm": {
     "name": "#%%\n"
    },
    "slideshow": {
     "slide_type": "slide"
    }
   },
   "outputs": [
    {
     "name": "stdout",
     "output_type": "stream",
     "text": [
      "        one       two     three\n",
      "a  0.883893  0.195865  0.357537\n",
      "b -2.343262       NaN  0.559696\n",
      "c  0.939469       NaN  0.503097\n",
      "d  0.406414  0.323461 -0.493411\n",
      "e -0.792017       NaN -1.279503\n"
     ]
    },
    {
     "name": "stderr",
     "output_type": "stream",
     "text": [
      "/var/folders/6j/7gfvt_29797dypw8t1wttblw0000gn/T/ipykernel_10061/13172693.py:2: FutureWarning: ChainedAssignmentError: behaviour will change in pandas 3.0!\n",
      "You are setting values through chained assignment. Currently this works in certain cases, but when using Copy-on-Write (which will become the default behaviour in pandas 3.0) this will never work to update the original DataFrame or Series, because the intermediate object on which we are setting values will behave as a copy.\n",
      "A typical example is when you are setting values in a column of a DataFrame, like:\n",
      "\n",
      "df[\"col\"][row_indexer] = value\n",
      "\n",
      "Use `df.loc[row_indexer, \"col\"] = values` instead, to perform the assignment in a single step and ensure this keeps updating the original `df`.\n",
      "\n",
      "See the caveats in the documentation: https://pandas.pydata.org/pandas-docs/stable/user_guide/indexing.html#returning-a-view-versus-a-copy\n",
      "\n",
      "  df.two[df.two<0]=np.nan\n"
     ]
    }
   ],
   "source": [
    "#Creamos valores NaN para testear \n",
    "df.two[df.two<0]=np.nan\n",
    "print(df)"
   ]
  },
  {
   "cell_type": "markdown",
   "metadata": {
    "pycharm": {
     "name": "#%% md\n"
    },
    "slideshow": {
     "slide_type": "slide"
    }
   },
   "source": [
    "Podemos usar ```fillna``` para rellenar de diversas maneras la serie o series. Por ejemplo, usando una operación de agregación como la media"
   ]
  },
  {
   "cell_type": "code",
   "execution_count": 21,
   "metadata": {
    "pycharm": {
     "name": "#%%\n"
    }
   },
   "outputs": [
    {
     "name": "stdout",
     "output_type": "stream",
     "text": [
      "        one       two     three\n",
      "a  0.883893  0.195865  0.357537\n",
      "b -2.343262       NaN  0.559696\n",
      "c  0.939469       NaN  0.503097\n",
      "d  0.406414  0.323461 -0.493411\n",
      "e -0.792017       NaN -1.279503\n",
      "---------------------------------\n",
      "        one       two     three\n",
      "a  0.883893  0.195865  0.357537\n",
      "b -2.343262  0.259663  0.559696\n",
      "c  0.939469  0.259663  0.503097\n",
      "d  0.406414  0.323461 -0.493411\n",
      "e -0.792017  0.259663 -1.279503\n"
     ]
    }
   ],
   "source": [
    "print(df)\n",
    "print(\"-\"*33)\n",
    "print(df.fillna(df.mean()))"
   ]
  },
  {
   "cell_type": "code",
   "execution_count": 30,
   "metadata": {
    "pycharm": {
     "name": "#%%\n"
    }
   },
   "outputs": [
    {
     "name": "stdout",
     "output_type": "stream",
     "text": [
      "        one       two     three\n",
      "a  0.883893  0.195865  0.357537\n",
      "b -2.343262      HOLA  0.559696\n",
      "c  0.939469      HOLA  0.503097\n",
      "d  0.406414  0.323461 -0.493411\n",
      "e -0.792017      HOLA -1.279503\n",
      "---------------------------------\n",
      "        one       two     three\n",
      "a  0.883893  0.195865  0.357537\n",
      "b -2.343262  0.883893  0.559696\n",
      "c  0.939469  0.883893  0.503097\n",
      "d  0.406414  0.323461 -0.493411\n",
      "e -0.792017  0.883893 -1.279503\n"
     ]
    }
   ],
   "source": [
    "#Con un valor en concreto del propio dataframe\n",
    "print(df.fillna(\"HOLA\"))\n",
    "print(\"-\"*33)\n",
    "print(df.fillna(df.loc[\"a\", [\"one\"]].values[0]))"
   ]
  },
  {
   "cell_type": "markdown",
   "metadata": {
    "pycharm": {
     "name": "#%% md\n"
    },
    "slideshow": {
     "slide_type": "slide"
    }
   },
   "source": [
    "#### Podemos rellenar con datos interpolados\n",
    "\n",
    "En la documentación vemos una serie de ejemplos: [Interpolate](https://pandas.pydata.org/pandas-docs/stable/reference/api/pandas.Series.interpolate.html)"
   ]
  },
  {
   "cell_type": "code",
   "execution_count": 8,
   "metadata": {
    "pycharm": {
     "name": "#%%\n"
    }
   },
   "outputs": [
    {
     "name": "stdout",
     "output_type": "stream",
     "text": [
      "        one       two     three\n",
      "a  0.883893  0.195865  0.357537\n",
      "b -2.343262       NaN  0.559696\n",
      "c  0.939469       NaN  0.503097\n",
      "d  0.406414  0.323461 -0.493411\n",
      "e -0.792017       NaN -1.279503\n",
      "-----------------------------------\n",
      "        one       two     three\n",
      "a  0.883893  0.195865  0.357537\n",
      "b -2.343262  0.238397  0.559696\n",
      "c  0.939469  0.280929  0.503097\n",
      "d  0.406414  0.323461 -0.493411\n",
      "e -0.792017  0.323461 -1.279503\n"
     ]
    }
   ],
   "source": [
    "print(df)\n",
    "print(\"-\"*35)\n",
    "print(df.interpolate())"
   ]
  },
  {
   "cell_type": "code",
   "execution_count": 53,
   "metadata": {},
   "outputs": [
    {
     "name": "stdout",
     "output_type": "stream",
     "text": [
      "        one       two     three\n",
      "a  0.883893  0.195865  0.357537\n",
      "b -2.343262 -0.891783  0.559696\n",
      "c  0.939469  0.721283  0.503097\n",
      "d  0.406414  0.323461 -0.493411\n",
      "e -0.792017 -1.035760 -1.279503\n",
      "----------------------------------------------------------------------\n",
      "-0.8917828081181468\n"
     ]
    }
   ],
   "source": [
    "print(df.interpolate(axis=1)) # Tomemos como referencia el valor NA de (b,\"two\")\n",
    "print(\"--\"*35)\n",
    "print(df.mean(axis=1).b)"
   ]
  },
  {
   "cell_type": "code",
   "execution_count": 62,
   "metadata": {},
   "outputs": [
    {
     "name": "stdout",
     "output_type": "stream",
     "text": [
      "0    0.195865\n",
      "1    0.195865\n",
      "2    0.195865\n",
      "3    0.323461\n",
      "4    0.323461\n",
      "Name: two, dtype: float64\n"
     ]
    }
   ],
   "source": [
    "# Para usar otro tipo de interpolaciones es recomendable tener un índice numérico por cuestiones de frecuencia en el método de interpolación\n",
    "df.index = range(len(df))\n",
    "print(df.two.interpolate(method=\"pad\"))"
   ]
  },
  {
   "cell_type": "code",
   "execution_count": 63,
   "metadata": {},
   "outputs": [
    {
     "name": "stdout",
     "output_type": "stream",
     "text": [
      "0    0.195865\n",
      "1    0.195865\n",
      "2    0.323461\n",
      "3    0.323461\n",
      "4         NaN\n",
      "Name: two, dtype: float64\n"
     ]
    }
   ],
   "source": [
    "print(df.two.interpolate(method=\"nearest\"))"
   ]
  },
  {
   "cell_type": "code",
   "execution_count": 64,
   "metadata": {
    "pycharm": {
     "name": "#%%\n"
    }
   },
   "outputs": [
    {
     "name": "stdout",
     "output_type": "stream",
     "text": [
      "Valores interpolados:3\n"
     ]
    }
   ],
   "source": [
    "print(\"Valores interpolados:\" + str(df.two.interpolate().count()-df.two.count()))"
   ]
  },
  {
   "cell_type": "markdown",
   "metadata": {
    "pycharm": {
     "name": "#%% md\n"
    },
    "slideshow": {
     "slide_type": "slide"
    }
   },
   "source": [
    "### Eliminación de valores NA\n",
    "\n",
    "Existen operaciones para la eliminación de valores NA"
   ]
  },
  {
   "cell_type": "code",
   "execution_count": 31,
   "metadata": {
    "pycharm": {
     "name": "#%%\n"
    }
   },
   "outputs": [
    {
     "name": "stdout",
     "output_type": "stream",
     "text": [
      "        one       two     three\n",
      "a  0.883893  0.195865  0.357537\n",
      "b -2.343262       NaN  0.559696\n",
      "c  0.939469       NaN  0.503097\n",
      "d  0.406414  0.323461 -0.493411\n",
      "e -0.792017       NaN -1.279503\n",
      "-----------------------------------\n",
      "        one       two     three\n",
      "a  0.883893  0.195865  0.357537\n",
      "d  0.406414  0.323461 -0.493411\n"
     ]
    }
   ],
   "source": [
    "print(df)\n",
    "print(\"-\"*35)\n",
    "print(df.dropna())\n",
    "\n",
    "# https://pandas.pydata.org/docs/reference/api/pandas.DataFrame.dropna.html"
   ]
  },
  {
   "cell_type": "code",
   "execution_count": 32,
   "metadata": {
    "pycharm": {
     "name": "#%%\n"
    },
    "slideshow": {
     "slide_type": "slide"
    }
   },
   "outputs": [
    {
     "data": {
      "text/html": [
       "<div>\n",
       "<style scoped>\n",
       "    .dataframe tbody tr th:only-of-type {\n",
       "        vertical-align: middle;\n",
       "    }\n",
       "\n",
       "    .dataframe tbody tr th {\n",
       "        vertical-align: top;\n",
       "    }\n",
       "\n",
       "    .dataframe thead th {\n",
       "        text-align: right;\n",
       "    }\n",
       "</style>\n",
       "<table border=\"1\" class=\"dataframe\">\n",
       "  <thead>\n",
       "    <tr style=\"text-align: right;\">\n",
       "      <th></th>\n",
       "      <th>one</th>\n",
       "      <th>three</th>\n",
       "    </tr>\n",
       "  </thead>\n",
       "  <tbody>\n",
       "    <tr>\n",
       "      <th>a</th>\n",
       "      <td>0.883893</td>\n",
       "      <td>0.357537</td>\n",
       "    </tr>\n",
       "    <tr>\n",
       "      <th>b</th>\n",
       "      <td>-2.343262</td>\n",
       "      <td>0.559696</td>\n",
       "    </tr>\n",
       "    <tr>\n",
       "      <th>c</th>\n",
       "      <td>0.939469</td>\n",
       "      <td>0.503097</td>\n",
       "    </tr>\n",
       "    <tr>\n",
       "      <th>d</th>\n",
       "      <td>0.406414</td>\n",
       "      <td>-0.493411</td>\n",
       "    </tr>\n",
       "    <tr>\n",
       "      <th>e</th>\n",
       "      <td>-0.792017</td>\n",
       "      <td>-1.279503</td>\n",
       "    </tr>\n",
       "  </tbody>\n",
       "</table>\n",
       "</div>"
      ],
      "text/plain": [
       "        one     three\n",
       "a  0.883893  0.357537\n",
       "b -2.343262  0.559696\n",
       "c  0.939469  0.503097\n",
       "d  0.406414 -0.493411\n",
       "e -0.792017 -1.279503"
      ]
     },
     "execution_count": 32,
     "metadata": {},
     "output_type": "execute_result"
    }
   ],
   "source": [
    "#O bien, podemos borrar cambiando el eje AXIS=0 o 1\n",
    "df.dropna(axis=1)"
   ]
  },
  {
   "cell_type": "code",
   "execution_count": 36,
   "metadata": {},
   "outputs": [
    {
     "name": "stdout",
     "output_type": "stream",
     "text": [
      "one     -0.181100\n",
      "two      0.259663\n",
      "three   -0.070517\n",
      "dtype: float64\n",
      "-----------------------------------\n",
      "a    0.479098\n",
      "b   -0.891783\n",
      "c    0.721283\n",
      "d    0.078822\n",
      "e   -1.035760\n",
      "dtype: float64\n"
     ]
    }
   ],
   "source": [
    "# el argumento AXIS está en un gran número de métodos de Pandas\n",
    "print(df.mean()) # y por defecto, suele ser axis=0 (considerar las columnas ejeX)\n",
    "print(\"-\"*35)\n",
    "print(df.mean(axis=1))"
   ]
  },
  {
   "cell_type": "markdown",
   "metadata": {
    "pycharm": {
     "name": "#%% md\n"
    },
    "slideshow": {
     "slide_type": "slide"
    }
   },
   "source": [
    "### Ejercicios"
   ]
  },
  {
   "cell_type": "markdown",
   "metadata": {
    "pycharm": {
     "name": "#%% md\n"
    }
   },
   "source": [
    "**1) Del fichero who.csv, contabiliza cuántos paises tienen algun valor NaN.**"
   ]
  },
  {
   "cell_type": "code",
   "execution_count": null,
   "metadata": {
    "collapsed": true,
    "pycharm": {
     "name": "#%%\n"
    }
   },
   "outputs": [],
   "source": [
    "df = pd.read_csv(\"data/who.csv\")\n",
    "df.isna()"
   ]
  },
  {
   "cell_type": "markdown",
   "metadata": {
    "pycharm": {
     "name": "#%% md\n"
    }
   },
   "source": [
    "**1b) Ordena el anterior resultado para identificar cuál es el pais con mayor número de campos desconocidos.**"
   ]
  },
  {
   "cell_type": "code",
   "execution_count": null,
   "metadata": {
    "collapsed": true,
    "pycharm": {
     "name": "#%%\n"
    }
   },
   "outputs": [],
   "source": []
  },
  {
   "cell_type": "markdown",
   "metadata": {
    "pycharm": {
     "name": "#%% md\n"
    },
    "slideshow": {
     "slide_type": "-"
    }
   },
   "source": [
    "**2) who.csv, Selecciona la primera, tercera y decima columna, de las filas comprendidas entre la 100 y la 150.**"
   ]
  },
  {
   "cell_type": "code",
   "execution_count": null,
   "metadata": {
    "collapsed": true,
    "pycharm": {
     "name": "#%%\n"
    }
   },
   "outputs": [],
   "source": []
  },
  {
   "cell_type": "markdown",
   "metadata": {
    "pycharm": {
     "name": "#%% md\n"
    }
   },
   "source": [
    "**2b) ¿Cuántos valores NaN hay presentes?**"
   ]
  },
  {
   "cell_type": "code",
   "execution_count": null,
   "metadata": {
    "collapsed": true,
    "pycharm": {
     "name": "#%%\n"
    }
   },
   "outputs": [],
   "source": []
  },
  {
   "cell_type": "markdown",
   "metadata": {
    "pycharm": {
     "name": "#%% md\n"
    }
   },
   "source": [
    "**2c) Crea un nuevo dataframe donde los NaN sean cero.**"
   ]
  },
  {
   "cell_type": "code",
   "execution_count": null,
   "metadata": {
    "collapsed": true,
    "pycharm": {
     "name": "#%%\n"
    }
   },
   "outputs": [],
   "source": []
  },
  {
   "cell_type": "markdown",
   "metadata": {
    "pycharm": {
     "name": "#%% md\n"
    }
   },
   "source": [
    "**2d) Elimina aquellas filas de la anterior selección donde haya NaN.**"
   ]
  },
  {
   "cell_type": "code",
   "execution_count": null,
   "metadata": {},
   "outputs": [],
   "source": []
  },
  {
   "cell_type": "markdown",
   "metadata": {},
   "source": [
    "## Series Temporales\n",
    "Las series temporales son muestras de valores tomadas a lo largo del tiempo con un muestreo generalmente equidistante. Por ejemplo, información económica, demográfica, meteorológica; registros de seguridad, actividad, etc.\n",
    "\n",
    "La biblioteca Pandas gestiona las series temporales utilizando el índice: una fecha (`datetime`):\n",
    "https://docs.python.org/es/3/library/datetime.html\n",
    "\n",
    "\n",
    "El índice de un _dataframe_ es el pilar básico de acceso a los valores, por lo que su uso simplifica procesos de filtrado, selección, interpolación, etc.\n",
    "\n",
    "Enlace a la documentación: [TimeSeries](https://pandas.pydata.org/docs/user_guide/timeseries.html)"
   ]
  },
  {
   "cell_type": "code",
   "execution_count": 9,
   "metadata": {
    "collapsed": true,
    "pycharm": {
     "name": "#%%\n"
    }
   },
   "outputs": [
    {
     "name": "stdout",
     "output_type": "stream",
     "text": [
      "         date  temperaturemin  temperaturemax  precipitation  snowfall  \\\n",
      "0  2015-04-08            62.1            84.0           0.00       0.0   \n",
      "1  2015-04-20            63.0            78.1           0.28       0.0   \n",
      "2  2015-04-26            45.0            54.0           0.02       0.0   \n",
      "3  2015-04-28            39.0            69.1           0.00       0.0   \n",
      "4  2015-05-03            46.9            79.0           0.00       0.0   \n",
      "\n",
      "   snowdepth  avgwindspeed  fastest2minwinddir  fastest2minwindspeed  \\\n",
      "0        0.0          5.82                40.0                 29.97   \n",
      "1        0.0         11.86               180.0                 21.92   \n",
      "2        0.0          5.82                50.0                 12.97   \n",
      "3        0.0          2.68                40.0                 12.08   \n",
      "4        0.0          2.68               200.0                 12.08   \n",
      "\n",
      "   fastest5secwinddir  ...  drizzle snow freezingrain smokehaze thunder  \\\n",
      "0                30.0  ...       No   No           No       Yes      No   \n",
      "1               170.0  ...       No   No           No        No     Yes   \n",
      "2                40.0  ...       No   No           No        No      No   \n",
      "3                40.0  ...       No   No           No        No      No   \n",
      "4               210.0  ...       No   No           No        No      No   \n",
      "\n",
      "  highwind hail blowingsnow dust freezingfog  \n",
      "0       No   No          No   No          No  \n",
      "1       No   No          No   No          No  \n",
      "2       No   No          No   No          No  \n",
      "3       No   No          No   No          No  \n",
      "4       No   No          No   No          No  \n",
      "\n",
      "[5 rows x 28 columns]\n"
     ]
    }
   ],
   "source": [
    "import pandas as pd\n",
    "df = pd.read_csv(\"data/rdu-weather-history.csv\",sep=\";\")  \n",
    "#Qué contiene el fichero\n",
    "print(df.head())"
   ]
  },
  {
   "cell_type": "code",
   "execution_count": 10,
   "metadata": {},
   "outputs": [
    {
     "name": "stdout",
     "output_type": "stream",
     "text": [
      "2509    2007-01-01\n",
      "1065    2007-01-02\n",
      "1066    2007-01-03\n",
      "1067    2007-01-04\n",
      "3251    2007-01-05\n",
      "           ...    \n",
      "2507    2019-06-19\n",
      "2508    2019-06-20\n",
      "488     2019-06-21\n",
      "489     2019-06-22\n",
      "3623    2019-06-23\n",
      "Name: date, Length: 4557, dtype: object\n"
     ]
    }
   ],
   "source": [
    "print(df.date.sort_values())"
   ]
  },
  {
   "cell_type": "markdown",
   "metadata": {},
   "source": [
    "Nosotros solo cubriremos los aspectos básicos de estos tipos de datos; lo que queremos es poder responder preguntas similares a las siguientes:\n",
    "- ¿Cómo podría obtener la temperatura media de un año?\n",
    "- ¿Cómo podría obtener la temperatura más alta de todos los meses de julio?\n",
    "\n",
    "En primer lugar, se ha de transformar el índice en una Fecha:"
   ]
  },
  {
   "cell_type": "code",
   "execution_count": 16,
   "metadata": {},
   "outputs": [
    {
     "data": {
      "text/html": [
       "<div>\n",
       "<style scoped>\n",
       "    .dataframe tbody tr th:only-of-type {\n",
       "        vertical-align: middle;\n",
       "    }\n",
       "\n",
       "    .dataframe tbody tr th {\n",
       "        vertical-align: top;\n",
       "    }\n",
       "\n",
       "    .dataframe thead th {\n",
       "        text-align: right;\n",
       "    }\n",
       "</style>\n",
       "<table border=\"1\" class=\"dataframe\">\n",
       "  <thead>\n",
       "    <tr style=\"text-align: right;\">\n",
       "      <th></th>\n",
       "      <th>date</th>\n",
       "      <th>temperaturemin</th>\n",
       "      <th>temperaturemax</th>\n",
       "      <th>precipitation</th>\n",
       "      <th>snowfall</th>\n",
       "      <th>snowdepth</th>\n",
       "      <th>avgwindspeed</th>\n",
       "      <th>fastest2minwinddir</th>\n",
       "      <th>fastest2minwindspeed</th>\n",
       "      <th>fastest5secwinddir</th>\n",
       "      <th>...</th>\n",
       "      <th>drizzle</th>\n",
       "      <th>snow</th>\n",
       "      <th>freezingrain</th>\n",
       "      <th>smokehaze</th>\n",
       "      <th>thunder</th>\n",
       "      <th>highwind</th>\n",
       "      <th>hail</th>\n",
       "      <th>blowingsnow</th>\n",
       "      <th>dust</th>\n",
       "      <th>freezingfog</th>\n",
       "    </tr>\n",
       "    <tr>\n",
       "      <th>date</th>\n",
       "      <th></th>\n",
       "      <th></th>\n",
       "      <th></th>\n",
       "      <th></th>\n",
       "      <th></th>\n",
       "      <th></th>\n",
       "      <th></th>\n",
       "      <th></th>\n",
       "      <th></th>\n",
       "      <th></th>\n",
       "      <th></th>\n",
       "      <th></th>\n",
       "      <th></th>\n",
       "      <th></th>\n",
       "      <th></th>\n",
       "      <th></th>\n",
       "      <th></th>\n",
       "      <th></th>\n",
       "      <th></th>\n",
       "      <th></th>\n",
       "      <th></th>\n",
       "    </tr>\n",
       "  </thead>\n",
       "  <tbody>\n",
       "    <tr>\n",
       "      <th>2007-01-01</th>\n",
       "      <td>2007-01-01</td>\n",
       "      <td>48.9</td>\n",
       "      <td>68.0</td>\n",
       "      <td>0.45</td>\n",
       "      <td>0.0</td>\n",
       "      <td>0.0</td>\n",
       "      <td>12.75</td>\n",
       "      <td>190.0</td>\n",
       "      <td>25.05</td>\n",
       "      <td>180.0</td>\n",
       "      <td>...</td>\n",
       "      <td>No</td>\n",
       "      <td>No</td>\n",
       "      <td>No</td>\n",
       "      <td>No</td>\n",
       "      <td>No</td>\n",
       "      <td>No</td>\n",
       "      <td>No</td>\n",
       "      <td>No</td>\n",
       "      <td>No</td>\n",
       "      <td>No</td>\n",
       "    </tr>\n",
       "    <tr>\n",
       "      <th>2007-01-02</th>\n",
       "      <td>2007-01-02</td>\n",
       "      <td>32.0</td>\n",
       "      <td>55.9</td>\n",
       "      <td>0.00</td>\n",
       "      <td>0.0</td>\n",
       "      <td>0.0</td>\n",
       "      <td>3.13</td>\n",
       "      <td>320.0</td>\n",
       "      <td>12.97</td>\n",
       "      <td>330.0</td>\n",
       "      <td>...</td>\n",
       "      <td>No</td>\n",
       "      <td>No</td>\n",
       "      <td>No</td>\n",
       "      <td>No</td>\n",
       "      <td>No</td>\n",
       "      <td>No</td>\n",
       "      <td>No</td>\n",
       "      <td>No</td>\n",
       "      <td>No</td>\n",
       "      <td>No</td>\n",
       "    </tr>\n",
       "    <tr>\n",
       "      <th>2007-01-03</th>\n",
       "      <td>2007-01-03</td>\n",
       "      <td>28.9</td>\n",
       "      <td>62.1</td>\n",
       "      <td>0.00</td>\n",
       "      <td>0.0</td>\n",
       "      <td>0.0</td>\n",
       "      <td>2.24</td>\n",
       "      <td>220.0</td>\n",
       "      <td>14.09</td>\n",
       "      <td>220.0</td>\n",
       "      <td>...</td>\n",
       "      <td>No</td>\n",
       "      <td>No</td>\n",
       "      <td>No</td>\n",
       "      <td>No</td>\n",
       "      <td>No</td>\n",
       "      <td>No</td>\n",
       "      <td>No</td>\n",
       "      <td>No</td>\n",
       "      <td>No</td>\n",
       "      <td>No</td>\n",
       "    </tr>\n",
       "    <tr>\n",
       "      <th>2007-01-04</th>\n",
       "      <td>2007-01-04</td>\n",
       "      <td>46.0</td>\n",
       "      <td>69.1</td>\n",
       "      <td>0.00</td>\n",
       "      <td>0.0</td>\n",
       "      <td>0.0</td>\n",
       "      <td>4.47</td>\n",
       "      <td>220.0</td>\n",
       "      <td>14.09</td>\n",
       "      <td>230.0</td>\n",
       "      <td>...</td>\n",
       "      <td>No</td>\n",
       "      <td>No</td>\n",
       "      <td>No</td>\n",
       "      <td>No</td>\n",
       "      <td>No</td>\n",
       "      <td>No</td>\n",
       "      <td>No</td>\n",
       "      <td>No</td>\n",
       "      <td>No</td>\n",
       "      <td>No</td>\n",
       "    </tr>\n",
       "    <tr>\n",
       "      <th>2007-01-05</th>\n",
       "      <td>2007-01-05</td>\n",
       "      <td>57.0</td>\n",
       "      <td>72.0</td>\n",
       "      <td>0.86</td>\n",
       "      <td>0.0</td>\n",
       "      <td>0.0</td>\n",
       "      <td>8.05</td>\n",
       "      <td>190.0</td>\n",
       "      <td>21.03</td>\n",
       "      <td>190.0</td>\n",
       "      <td>...</td>\n",
       "      <td>No</td>\n",
       "      <td>No</td>\n",
       "      <td>No</td>\n",
       "      <td>No</td>\n",
       "      <td>No</td>\n",
       "      <td>No</td>\n",
       "      <td>No</td>\n",
       "      <td>No</td>\n",
       "      <td>No</td>\n",
       "      <td>No</td>\n",
       "    </tr>\n",
       "  </tbody>\n",
       "</table>\n",
       "<p>5 rows × 28 columns</p>\n",
       "</div>"
      ],
      "text/plain": [
       "                  date  temperaturemin  temperaturemax  precipitation  \\\n",
       "date                                                                    \n",
       "2007-01-01  2007-01-01            48.9            68.0           0.45   \n",
       "2007-01-02  2007-01-02            32.0            55.9           0.00   \n",
       "2007-01-03  2007-01-03            28.9            62.1           0.00   \n",
       "2007-01-04  2007-01-04            46.0            69.1           0.00   \n",
       "2007-01-05  2007-01-05            57.0            72.0           0.86   \n",
       "\n",
       "            snowfall  snowdepth  avgwindspeed  fastest2minwinddir  \\\n",
       "date                                                                \n",
       "2007-01-01       0.0        0.0         12.75               190.0   \n",
       "2007-01-02       0.0        0.0          3.13               320.0   \n",
       "2007-01-03       0.0        0.0          2.24               220.0   \n",
       "2007-01-04       0.0        0.0          4.47               220.0   \n",
       "2007-01-05       0.0        0.0          8.05               190.0   \n",
       "\n",
       "            fastest2minwindspeed  fastest5secwinddir  ...  drizzle snow  \\\n",
       "date                                                  ...                 \n",
       "2007-01-01                 25.05               180.0  ...       No   No   \n",
       "2007-01-02                 12.97               330.0  ...       No   No   \n",
       "2007-01-03                 14.09               220.0  ...       No   No   \n",
       "2007-01-04                 14.09               230.0  ...       No   No   \n",
       "2007-01-05                 21.03               190.0  ...       No   No   \n",
       "\n",
       "           freezingrain smokehaze thunder highwind hail blowingsnow dust  \\\n",
       "date                                                                       \n",
       "2007-01-01           No        No      No       No   No          No   No   \n",
       "2007-01-02           No        No      No       No   No          No   No   \n",
       "2007-01-03           No        No      No       No   No          No   No   \n",
       "2007-01-04           No        No      No       No   No          No   No   \n",
       "2007-01-05           No        No      No       No   No          No   No   \n",
       "\n",
       "           freezingfog  \n",
       "date                    \n",
       "2007-01-01          No  \n",
       "2007-01-02          No  \n",
       "2007-01-03          No  \n",
       "2007-01-04          No  \n",
       "2007-01-05          No  \n",
       "\n",
       "[5 rows x 28 columns]"
      ]
     },
     "execution_count": 16,
     "metadata": {},
     "output_type": "execute_result"
    }
   ],
   "source": [
    "from pandas import DatetimeIndex\n",
    "\n",
    "import pandas as pd\n",
    "df = pd.read_csv(\"data/rdu-weather-history.csv\",sep=\";\")  \n",
    "\n",
    "df.index = DatetimeIndex(df[\"date\"])\n",
    "df.sort_index(inplace=True)\n",
    "df.head()\n",
    "\n"
   ]
  },
  {
   "cell_type": "code",
   "execution_count": 12,
   "metadata": {},
   "outputs": [],
   "source": [
    "df = df.drop(columns=\"date\")"
   ]
  },
  {
   "cell_type": "code",
   "execution_count": 17,
   "metadata": {},
   "outputs": [
    {
     "data": {
      "text/plain": [
       "Index([ 1,  2,  3,  4,  5,  6,  7,  8,  9, 10,\n",
       "       ...\n",
       "       14, 15, 16, 17, 18, 19, 20, 21, 22, 23],\n",
       "      dtype='int32', name='date', length=4557)"
      ]
     },
     "execution_count": 17,
     "metadata": {},
     "output_type": "execute_result"
    }
   ],
   "source": [
    "df.index.day"
   ]
  },
  {
   "cell_type": "code",
   "execution_count": 18,
   "metadata": {},
   "outputs": [
    {
     "data": {
      "text/html": [
       "<div>\n",
       "<style scoped>\n",
       "    .dataframe tbody tr th:only-of-type {\n",
       "        vertical-align: middle;\n",
       "    }\n",
       "\n",
       "    .dataframe tbody tr th {\n",
       "        vertical-align: top;\n",
       "    }\n",
       "\n",
       "    .dataframe thead th {\n",
       "        text-align: right;\n",
       "    }\n",
       "</style>\n",
       "<table border=\"1\" class=\"dataframe\">\n",
       "  <thead>\n",
       "    <tr style=\"text-align: right;\">\n",
       "      <th></th>\n",
       "      <th>date</th>\n",
       "      <th>temperaturemin</th>\n",
       "      <th>temperaturemax</th>\n",
       "      <th>precipitation</th>\n",
       "      <th>snowfall</th>\n",
       "      <th>snowdepth</th>\n",
       "      <th>avgwindspeed</th>\n",
       "      <th>fastest2minwinddir</th>\n",
       "      <th>fastest2minwindspeed</th>\n",
       "      <th>fastest5secwinddir</th>\n",
       "      <th>...</th>\n",
       "      <th>drizzle</th>\n",
       "      <th>snow</th>\n",
       "      <th>freezingrain</th>\n",
       "      <th>smokehaze</th>\n",
       "      <th>thunder</th>\n",
       "      <th>highwind</th>\n",
       "      <th>hail</th>\n",
       "      <th>blowingsnow</th>\n",
       "      <th>dust</th>\n",
       "      <th>freezingfog</th>\n",
       "    </tr>\n",
       "    <tr>\n",
       "      <th>date</th>\n",
       "      <th></th>\n",
       "      <th></th>\n",
       "      <th></th>\n",
       "      <th></th>\n",
       "      <th></th>\n",
       "      <th></th>\n",
       "      <th></th>\n",
       "      <th></th>\n",
       "      <th></th>\n",
       "      <th></th>\n",
       "      <th></th>\n",
       "      <th></th>\n",
       "      <th></th>\n",
       "      <th></th>\n",
       "      <th></th>\n",
       "      <th></th>\n",
       "      <th></th>\n",
       "      <th></th>\n",
       "      <th></th>\n",
       "      <th></th>\n",
       "      <th></th>\n",
       "    </tr>\n",
       "  </thead>\n",
       "  <tbody>\n",
       "    <tr>\n",
       "      <th>2014-01-01</th>\n",
       "      <td>2014-01-01</td>\n",
       "      <td>29.1</td>\n",
       "      <td>51.1</td>\n",
       "      <td>0.00</td>\n",
       "      <td>0.0</td>\n",
       "      <td>0.0</td>\n",
       "      <td>2.46</td>\n",
       "      <td>200.0</td>\n",
       "      <td>8.95</td>\n",
       "      <td>210.0</td>\n",
       "      <td>...</td>\n",
       "      <td>No</td>\n",
       "      <td>No</td>\n",
       "      <td>No</td>\n",
       "      <td>No</td>\n",
       "      <td>No</td>\n",
       "      <td>No</td>\n",
       "      <td>No</td>\n",
       "      <td>No</td>\n",
       "      <td>No</td>\n",
       "      <td>No</td>\n",
       "    </tr>\n",
       "    <tr>\n",
       "      <th>2014-01-02</th>\n",
       "      <td>2014-01-02</td>\n",
       "      <td>37.0</td>\n",
       "      <td>48.9</td>\n",
       "      <td>0.33</td>\n",
       "      <td>0.0</td>\n",
       "      <td>0.0</td>\n",
       "      <td>2.68</td>\n",
       "      <td>310.0</td>\n",
       "      <td>12.97</td>\n",
       "      <td>320.0</td>\n",
       "      <td>...</td>\n",
       "      <td>No</td>\n",
       "      <td>No</td>\n",
       "      <td>No</td>\n",
       "      <td>No</td>\n",
       "      <td>No</td>\n",
       "      <td>No</td>\n",
       "      <td>No</td>\n",
       "      <td>No</td>\n",
       "      <td>No</td>\n",
       "      <td>No</td>\n",
       "    </tr>\n",
       "    <tr>\n",
       "      <th>2014-01-03</th>\n",
       "      <td>2014-01-03</td>\n",
       "      <td>22.1</td>\n",
       "      <td>43.0</td>\n",
       "      <td>0.00</td>\n",
       "      <td>0.0</td>\n",
       "      <td>0.0</td>\n",
       "      <td>7.38</td>\n",
       "      <td>300.0</td>\n",
       "      <td>21.92</td>\n",
       "      <td>310.0</td>\n",
       "      <td>...</td>\n",
       "      <td>No</td>\n",
       "      <td>No</td>\n",
       "      <td>No</td>\n",
       "      <td>No</td>\n",
       "      <td>No</td>\n",
       "      <td>No</td>\n",
       "      <td>No</td>\n",
       "      <td>No</td>\n",
       "      <td>No</td>\n",
       "      <td>No</td>\n",
       "    </tr>\n",
       "    <tr>\n",
       "      <th>2014-01-04</th>\n",
       "      <td>2014-01-04</td>\n",
       "      <td>19.2</td>\n",
       "      <td>37.9</td>\n",
       "      <td>0.00</td>\n",
       "      <td>0.0</td>\n",
       "      <td>0.0</td>\n",
       "      <td>2.24</td>\n",
       "      <td>120.0</td>\n",
       "      <td>8.05</td>\n",
       "      <td>120.0</td>\n",
       "      <td>...</td>\n",
       "      <td>No</td>\n",
       "      <td>No</td>\n",
       "      <td>No</td>\n",
       "      <td>No</td>\n",
       "      <td>No</td>\n",
       "      <td>No</td>\n",
       "      <td>No</td>\n",
       "      <td>No</td>\n",
       "      <td>No</td>\n",
       "      <td>No</td>\n",
       "    </tr>\n",
       "    <tr>\n",
       "      <th>2014-01-05</th>\n",
       "      <td>2014-01-05</td>\n",
       "      <td>37.0</td>\n",
       "      <td>62.1</td>\n",
       "      <td>0.00</td>\n",
       "      <td>0.0</td>\n",
       "      <td>0.0</td>\n",
       "      <td>4.92</td>\n",
       "      <td>180.0</td>\n",
       "      <td>16.11</td>\n",
       "      <td>180.0</td>\n",
       "      <td>...</td>\n",
       "      <td>No</td>\n",
       "      <td>No</td>\n",
       "      <td>No</td>\n",
       "      <td>No</td>\n",
       "      <td>No</td>\n",
       "      <td>No</td>\n",
       "      <td>No</td>\n",
       "      <td>No</td>\n",
       "      <td>No</td>\n",
       "      <td>No</td>\n",
       "    </tr>\n",
       "    <tr>\n",
       "      <th>...</th>\n",
       "      <td>...</td>\n",
       "      <td>...</td>\n",
       "      <td>...</td>\n",
       "      <td>...</td>\n",
       "      <td>...</td>\n",
       "      <td>...</td>\n",
       "      <td>...</td>\n",
       "      <td>...</td>\n",
       "      <td>...</td>\n",
       "      <td>...</td>\n",
       "      <td>...</td>\n",
       "      <td>...</td>\n",
       "      <td>...</td>\n",
       "      <td>...</td>\n",
       "      <td>...</td>\n",
       "      <td>...</td>\n",
       "      <td>...</td>\n",
       "      <td>...</td>\n",
       "      <td>...</td>\n",
       "      <td>...</td>\n",
       "      <td>...</td>\n",
       "    </tr>\n",
       "    <tr>\n",
       "      <th>2014-12-27</th>\n",
       "      <td>2014-12-27</td>\n",
       "      <td>31.1</td>\n",
       "      <td>62.1</td>\n",
       "      <td>0.00</td>\n",
       "      <td>0.0</td>\n",
       "      <td>0.0</td>\n",
       "      <td>3.13</td>\n",
       "      <td>230.0</td>\n",
       "      <td>12.08</td>\n",
       "      <td>240.0</td>\n",
       "      <td>...</td>\n",
       "      <td>No</td>\n",
       "      <td>No</td>\n",
       "      <td>No</td>\n",
       "      <td>Yes</td>\n",
       "      <td>No</td>\n",
       "      <td>No</td>\n",
       "      <td>No</td>\n",
       "      <td>No</td>\n",
       "      <td>No</td>\n",
       "      <td>No</td>\n",
       "    </tr>\n",
       "    <tr>\n",
       "      <th>2014-12-28</th>\n",
       "      <td>2014-12-28</td>\n",
       "      <td>48.0</td>\n",
       "      <td>61.0</td>\n",
       "      <td>0.01</td>\n",
       "      <td>0.0</td>\n",
       "      <td>0.0</td>\n",
       "      <td>6.71</td>\n",
       "      <td>230.0</td>\n",
       "      <td>14.99</td>\n",
       "      <td>230.0</td>\n",
       "      <td>...</td>\n",
       "      <td>No</td>\n",
       "      <td>No</td>\n",
       "      <td>No</td>\n",
       "      <td>No</td>\n",
       "      <td>No</td>\n",
       "      <td>No</td>\n",
       "      <td>No</td>\n",
       "      <td>No</td>\n",
       "      <td>No</td>\n",
       "      <td>No</td>\n",
       "    </tr>\n",
       "    <tr>\n",
       "      <th>2014-12-29</th>\n",
       "      <td>2014-12-29</td>\n",
       "      <td>41.0</td>\n",
       "      <td>55.0</td>\n",
       "      <td>0.72</td>\n",
       "      <td>0.0</td>\n",
       "      <td>0.0</td>\n",
       "      <td>6.71</td>\n",
       "      <td>30.0</td>\n",
       "      <td>12.08</td>\n",
       "      <td>50.0</td>\n",
       "      <td>...</td>\n",
       "      <td>No</td>\n",
       "      <td>No</td>\n",
       "      <td>No</td>\n",
       "      <td>No</td>\n",
       "      <td>No</td>\n",
       "      <td>No</td>\n",
       "      <td>No</td>\n",
       "      <td>No</td>\n",
       "      <td>No</td>\n",
       "      <td>No</td>\n",
       "    </tr>\n",
       "    <tr>\n",
       "      <th>2014-12-30</th>\n",
       "      <td>2014-12-30</td>\n",
       "      <td>28.2</td>\n",
       "      <td>41.0</td>\n",
       "      <td>0.02</td>\n",
       "      <td>0.0</td>\n",
       "      <td>0.0</td>\n",
       "      <td>5.82</td>\n",
       "      <td>40.0</td>\n",
       "      <td>17.00</td>\n",
       "      <td>40.0</td>\n",
       "      <td>...</td>\n",
       "      <td>No</td>\n",
       "      <td>No</td>\n",
       "      <td>No</td>\n",
       "      <td>No</td>\n",
       "      <td>No</td>\n",
       "      <td>No</td>\n",
       "      <td>No</td>\n",
       "      <td>No</td>\n",
       "      <td>No</td>\n",
       "      <td>No</td>\n",
       "    </tr>\n",
       "    <tr>\n",
       "      <th>2014-12-31</th>\n",
       "      <td>2014-12-31</td>\n",
       "      <td>26.2</td>\n",
       "      <td>46.0</td>\n",
       "      <td>0.00</td>\n",
       "      <td>0.0</td>\n",
       "      <td>0.0</td>\n",
       "      <td>1.34</td>\n",
       "      <td>50.0</td>\n",
       "      <td>8.95</td>\n",
       "      <td>270.0</td>\n",
       "      <td>...</td>\n",
       "      <td>No</td>\n",
       "      <td>No</td>\n",
       "      <td>No</td>\n",
       "      <td>No</td>\n",
       "      <td>No</td>\n",
       "      <td>No</td>\n",
       "      <td>No</td>\n",
       "      <td>No</td>\n",
       "      <td>No</td>\n",
       "      <td>No</td>\n",
       "    </tr>\n",
       "  </tbody>\n",
       "</table>\n",
       "<p>365 rows × 28 columns</p>\n",
       "</div>"
      ],
      "text/plain": [
       "                  date  temperaturemin  temperaturemax  precipitation  \\\n",
       "date                                                                    \n",
       "2014-01-01  2014-01-01            29.1            51.1           0.00   \n",
       "2014-01-02  2014-01-02            37.0            48.9           0.33   \n",
       "2014-01-03  2014-01-03            22.1            43.0           0.00   \n",
       "2014-01-04  2014-01-04            19.2            37.9           0.00   \n",
       "2014-01-05  2014-01-05            37.0            62.1           0.00   \n",
       "...                ...             ...             ...            ...   \n",
       "2014-12-27  2014-12-27            31.1            62.1           0.00   \n",
       "2014-12-28  2014-12-28            48.0            61.0           0.01   \n",
       "2014-12-29  2014-12-29            41.0            55.0           0.72   \n",
       "2014-12-30  2014-12-30            28.2            41.0           0.02   \n",
       "2014-12-31  2014-12-31            26.2            46.0           0.00   \n",
       "\n",
       "            snowfall  snowdepth  avgwindspeed  fastest2minwinddir  \\\n",
       "date                                                                \n",
       "2014-01-01       0.0        0.0          2.46               200.0   \n",
       "2014-01-02       0.0        0.0          2.68               310.0   \n",
       "2014-01-03       0.0        0.0          7.38               300.0   \n",
       "2014-01-04       0.0        0.0          2.24               120.0   \n",
       "2014-01-05       0.0        0.0          4.92               180.0   \n",
       "...              ...        ...           ...                 ...   \n",
       "2014-12-27       0.0        0.0          3.13               230.0   \n",
       "2014-12-28       0.0        0.0          6.71               230.0   \n",
       "2014-12-29       0.0        0.0          6.71                30.0   \n",
       "2014-12-30       0.0        0.0          5.82                40.0   \n",
       "2014-12-31       0.0        0.0          1.34                50.0   \n",
       "\n",
       "            fastest2minwindspeed  fastest5secwinddir  ...  drizzle snow  \\\n",
       "date                                                  ...                 \n",
       "2014-01-01                  8.95               210.0  ...       No   No   \n",
       "2014-01-02                 12.97               320.0  ...       No   No   \n",
       "2014-01-03                 21.92               310.0  ...       No   No   \n",
       "2014-01-04                  8.05               120.0  ...       No   No   \n",
       "2014-01-05                 16.11               180.0  ...       No   No   \n",
       "...                          ...                 ...  ...      ...  ...   \n",
       "2014-12-27                 12.08               240.0  ...       No   No   \n",
       "2014-12-28                 14.99               230.0  ...       No   No   \n",
       "2014-12-29                 12.08                50.0  ...       No   No   \n",
       "2014-12-30                 17.00                40.0  ...       No   No   \n",
       "2014-12-31                  8.95               270.0  ...       No   No   \n",
       "\n",
       "           freezingrain smokehaze thunder highwind hail blowingsnow dust  \\\n",
       "date                                                                       \n",
       "2014-01-01           No        No      No       No   No          No   No   \n",
       "2014-01-02           No        No      No       No   No          No   No   \n",
       "2014-01-03           No        No      No       No   No          No   No   \n",
       "2014-01-04           No        No      No       No   No          No   No   \n",
       "2014-01-05           No        No      No       No   No          No   No   \n",
       "...                 ...       ...     ...      ...  ...         ...  ...   \n",
       "2014-12-27           No       Yes      No       No   No          No   No   \n",
       "2014-12-28           No        No      No       No   No          No   No   \n",
       "2014-12-29           No        No      No       No   No          No   No   \n",
       "2014-12-30           No        No      No       No   No          No   No   \n",
       "2014-12-31           No        No      No       No   No          No   No   \n",
       "\n",
       "           freezingfog  \n",
       "date                    \n",
       "2014-01-01          No  \n",
       "2014-01-02          No  \n",
       "2014-01-03          No  \n",
       "2014-01-04          No  \n",
       "2014-01-05          No  \n",
       "...                ...  \n",
       "2014-12-27          No  \n",
       "2014-12-28          No  \n",
       "2014-12-29          No  \n",
       "2014-12-30          No  \n",
       "2014-12-31          No  \n",
       "\n",
       "[365 rows x 28 columns]"
      ]
     },
     "execution_count": 18,
     "metadata": {},
     "output_type": "execute_result"
    }
   ],
   "source": [
    "df.loc[\"2014\"]"
   ]
  },
  {
   "cell_type": "code",
   "execution_count": 19,
   "metadata": {},
   "outputs": [
    {
     "data": {
      "text/plain": [
       "date                    2014-01-03\n",
       "temperaturemin                22.1\n",
       "temperaturemax                43.0\n",
       "precipitation                  0.0\n",
       "snowfall                       0.0\n",
       "snowdepth                      0.0\n",
       "avgwindspeed                  7.38\n",
       "fastest2minwinddir           300.0\n",
       "fastest2minwindspeed         21.92\n",
       "fastest5secwinddir           310.0\n",
       "fastest5secwindspeed         31.99\n",
       "fog                             No\n",
       "fogheavy                        No\n",
       "mist                            No\n",
       "rain                            No\n",
       "fogground                       No\n",
       "ice                             No\n",
       "glaze                           No\n",
       "drizzle                         No\n",
       "snow                            No\n",
       "freezingrain                    No\n",
       "smokehaze                       No\n",
       "thunder                         No\n",
       "highwind                        No\n",
       "hail                            No\n",
       "blowingsnow                     No\n",
       "dust                            No\n",
       "freezingfog                     No\n",
       "Name: 2014-01-03 00:00:00, dtype: object"
      ]
     },
     "execution_count": 19,
     "metadata": {},
     "output_type": "execute_result"
    }
   ],
   "source": [
    "df.loc[\"2014-01-03\"]"
   ]
  },
  {
   "cell_type": "code",
   "execution_count": 20,
   "metadata": {},
   "outputs": [
    {
     "data": {
      "text/html": [
       "<div>\n",
       "<style scoped>\n",
       "    .dataframe tbody tr th:only-of-type {\n",
       "        vertical-align: middle;\n",
       "    }\n",
       "\n",
       "    .dataframe tbody tr th {\n",
       "        vertical-align: top;\n",
       "    }\n",
       "\n",
       "    .dataframe thead th {\n",
       "        text-align: right;\n",
       "    }\n",
       "</style>\n",
       "<table border=\"1\" class=\"dataframe\">\n",
       "  <thead>\n",
       "    <tr style=\"text-align: right;\">\n",
       "      <th></th>\n",
       "      <th>date</th>\n",
       "      <th>temperaturemin</th>\n",
       "      <th>temperaturemax</th>\n",
       "      <th>precipitation</th>\n",
       "      <th>snowfall</th>\n",
       "      <th>snowdepth</th>\n",
       "      <th>avgwindspeed</th>\n",
       "      <th>fastest2minwinddir</th>\n",
       "      <th>fastest2minwindspeed</th>\n",
       "      <th>fastest5secwinddir</th>\n",
       "      <th>...</th>\n",
       "      <th>drizzle</th>\n",
       "      <th>snow</th>\n",
       "      <th>freezingrain</th>\n",
       "      <th>smokehaze</th>\n",
       "      <th>thunder</th>\n",
       "      <th>highwind</th>\n",
       "      <th>hail</th>\n",
       "      <th>blowingsnow</th>\n",
       "      <th>dust</th>\n",
       "      <th>freezingfog</th>\n",
       "    </tr>\n",
       "    <tr>\n",
       "      <th>date</th>\n",
       "      <th></th>\n",
       "      <th></th>\n",
       "      <th></th>\n",
       "      <th></th>\n",
       "      <th></th>\n",
       "      <th></th>\n",
       "      <th></th>\n",
       "      <th></th>\n",
       "      <th></th>\n",
       "      <th></th>\n",
       "      <th></th>\n",
       "      <th></th>\n",
       "      <th></th>\n",
       "      <th></th>\n",
       "      <th></th>\n",
       "      <th></th>\n",
       "      <th></th>\n",
       "      <th></th>\n",
       "      <th></th>\n",
       "      <th></th>\n",
       "      <th></th>\n",
       "    </tr>\n",
       "  </thead>\n",
       "  <tbody>\n",
       "    <tr>\n",
       "      <th>2014-01-01</th>\n",
       "      <td>2014-01-01</td>\n",
       "      <td>29.1</td>\n",
       "      <td>51.1</td>\n",
       "      <td>0.00</td>\n",
       "      <td>0.0</td>\n",
       "      <td>0.0</td>\n",
       "      <td>2.46</td>\n",
       "      <td>200.0</td>\n",
       "      <td>8.95</td>\n",
       "      <td>210.0</td>\n",
       "      <td>...</td>\n",
       "      <td>No</td>\n",
       "      <td>No</td>\n",
       "      <td>No</td>\n",
       "      <td>No</td>\n",
       "      <td>No</td>\n",
       "      <td>No</td>\n",
       "      <td>No</td>\n",
       "      <td>No</td>\n",
       "      <td>No</td>\n",
       "      <td>No</td>\n",
       "    </tr>\n",
       "    <tr>\n",
       "      <th>2014-01-02</th>\n",
       "      <td>2014-01-02</td>\n",
       "      <td>37.0</td>\n",
       "      <td>48.9</td>\n",
       "      <td>0.33</td>\n",
       "      <td>0.0</td>\n",
       "      <td>0.0</td>\n",
       "      <td>2.68</td>\n",
       "      <td>310.0</td>\n",
       "      <td>12.97</td>\n",
       "      <td>320.0</td>\n",
       "      <td>...</td>\n",
       "      <td>No</td>\n",
       "      <td>No</td>\n",
       "      <td>No</td>\n",
       "      <td>No</td>\n",
       "      <td>No</td>\n",
       "      <td>No</td>\n",
       "      <td>No</td>\n",
       "      <td>No</td>\n",
       "      <td>No</td>\n",
       "      <td>No</td>\n",
       "    </tr>\n",
       "    <tr>\n",
       "      <th>2014-01-03</th>\n",
       "      <td>2014-01-03</td>\n",
       "      <td>22.1</td>\n",
       "      <td>43.0</td>\n",
       "      <td>0.00</td>\n",
       "      <td>0.0</td>\n",
       "      <td>0.0</td>\n",
       "      <td>7.38</td>\n",
       "      <td>300.0</td>\n",
       "      <td>21.92</td>\n",
       "      <td>310.0</td>\n",
       "      <td>...</td>\n",
       "      <td>No</td>\n",
       "      <td>No</td>\n",
       "      <td>No</td>\n",
       "      <td>No</td>\n",
       "      <td>No</td>\n",
       "      <td>No</td>\n",
       "      <td>No</td>\n",
       "      <td>No</td>\n",
       "      <td>No</td>\n",
       "      <td>No</td>\n",
       "    </tr>\n",
       "    <tr>\n",
       "      <th>2014-01-04</th>\n",
       "      <td>2014-01-04</td>\n",
       "      <td>19.2</td>\n",
       "      <td>37.9</td>\n",
       "      <td>0.00</td>\n",
       "      <td>0.0</td>\n",
       "      <td>0.0</td>\n",
       "      <td>2.24</td>\n",
       "      <td>120.0</td>\n",
       "      <td>8.05</td>\n",
       "      <td>120.0</td>\n",
       "      <td>...</td>\n",
       "      <td>No</td>\n",
       "      <td>No</td>\n",
       "      <td>No</td>\n",
       "      <td>No</td>\n",
       "      <td>No</td>\n",
       "      <td>No</td>\n",
       "      <td>No</td>\n",
       "      <td>No</td>\n",
       "      <td>No</td>\n",
       "      <td>No</td>\n",
       "    </tr>\n",
       "    <tr>\n",
       "      <th>2014-01-05</th>\n",
       "      <td>2014-01-05</td>\n",
       "      <td>37.0</td>\n",
       "      <td>62.1</td>\n",
       "      <td>0.00</td>\n",
       "      <td>0.0</td>\n",
       "      <td>0.0</td>\n",
       "      <td>4.92</td>\n",
       "      <td>180.0</td>\n",
       "      <td>16.11</td>\n",
       "      <td>180.0</td>\n",
       "      <td>...</td>\n",
       "      <td>No</td>\n",
       "      <td>No</td>\n",
       "      <td>No</td>\n",
       "      <td>No</td>\n",
       "      <td>No</td>\n",
       "      <td>No</td>\n",
       "      <td>No</td>\n",
       "      <td>No</td>\n",
       "      <td>No</td>\n",
       "      <td>No</td>\n",
       "    </tr>\n",
       "    <tr>\n",
       "      <th>...</th>\n",
       "      <td>...</td>\n",
       "      <td>...</td>\n",
       "      <td>...</td>\n",
       "      <td>...</td>\n",
       "      <td>...</td>\n",
       "      <td>...</td>\n",
       "      <td>...</td>\n",
       "      <td>...</td>\n",
       "      <td>...</td>\n",
       "      <td>...</td>\n",
       "      <td>...</td>\n",
       "      <td>...</td>\n",
       "      <td>...</td>\n",
       "      <td>...</td>\n",
       "      <td>...</td>\n",
       "      <td>...</td>\n",
       "      <td>...</td>\n",
       "      <td>...</td>\n",
       "      <td>...</td>\n",
       "      <td>...</td>\n",
       "      <td>...</td>\n",
       "    </tr>\n",
       "    <tr>\n",
       "      <th>2016-12-27</th>\n",
       "      <td>2016-12-27</td>\n",
       "      <td>52.0</td>\n",
       "      <td>68.0</td>\n",
       "      <td>0.01</td>\n",
       "      <td>0.0</td>\n",
       "      <td>0.0</td>\n",
       "      <td>10.29</td>\n",
       "      <td>240.0</td>\n",
       "      <td>19.91</td>\n",
       "      <td>230.0</td>\n",
       "      <td>...</td>\n",
       "      <td>No</td>\n",
       "      <td>No</td>\n",
       "      <td>No</td>\n",
       "      <td>No</td>\n",
       "      <td>No</td>\n",
       "      <td>No</td>\n",
       "      <td>No</td>\n",
       "      <td>No</td>\n",
       "      <td>No</td>\n",
       "      <td>No</td>\n",
       "    </tr>\n",
       "    <tr>\n",
       "      <th>2016-12-28</th>\n",
       "      <td>2016-12-28</td>\n",
       "      <td>36.0</td>\n",
       "      <td>60.1</td>\n",
       "      <td>0.00</td>\n",
       "      <td>0.0</td>\n",
       "      <td>0.0</td>\n",
       "      <td>2.91</td>\n",
       "      <td>10.0</td>\n",
       "      <td>8.95</td>\n",
       "      <td>20.0</td>\n",
       "      <td>...</td>\n",
       "      <td>No</td>\n",
       "      <td>No</td>\n",
       "      <td>No</td>\n",
       "      <td>No</td>\n",
       "      <td>No</td>\n",
       "      <td>No</td>\n",
       "      <td>No</td>\n",
       "      <td>No</td>\n",
       "      <td>No</td>\n",
       "      <td>No</td>\n",
       "    </tr>\n",
       "    <tr>\n",
       "      <th>2016-12-29</th>\n",
       "      <td>2016-12-29</td>\n",
       "      <td>39.0</td>\n",
       "      <td>63.0</td>\n",
       "      <td>0.35</td>\n",
       "      <td>0.0</td>\n",
       "      <td>0.0</td>\n",
       "      <td>7.83</td>\n",
       "      <td>290.0</td>\n",
       "      <td>21.92</td>\n",
       "      <td>320.0</td>\n",
       "      <td>...</td>\n",
       "      <td>No</td>\n",
       "      <td>No</td>\n",
       "      <td>No</td>\n",
       "      <td>No</td>\n",
       "      <td>No</td>\n",
       "      <td>No</td>\n",
       "      <td>No</td>\n",
       "      <td>No</td>\n",
       "      <td>No</td>\n",
       "      <td>No</td>\n",
       "    </tr>\n",
       "    <tr>\n",
       "      <th>2016-12-30</th>\n",
       "      <td>2016-12-30</td>\n",
       "      <td>28.2</td>\n",
       "      <td>48.0</td>\n",
       "      <td>0.00</td>\n",
       "      <td>0.0</td>\n",
       "      <td>0.0</td>\n",
       "      <td>8.28</td>\n",
       "      <td>280.0</td>\n",
       "      <td>21.03</td>\n",
       "      <td>280.0</td>\n",
       "      <td>...</td>\n",
       "      <td>No</td>\n",
       "      <td>No</td>\n",
       "      <td>No</td>\n",
       "      <td>No</td>\n",
       "      <td>No</td>\n",
       "      <td>No</td>\n",
       "      <td>No</td>\n",
       "      <td>No</td>\n",
       "      <td>No</td>\n",
       "      <td>No</td>\n",
       "    </tr>\n",
       "    <tr>\n",
       "      <th>2016-12-31</th>\n",
       "      <td>2016-12-31</td>\n",
       "      <td>23.2</td>\n",
       "      <td>50.0</td>\n",
       "      <td>0.00</td>\n",
       "      <td>0.0</td>\n",
       "      <td>0.0</td>\n",
       "      <td>8.72</td>\n",
       "      <td>220.0</td>\n",
       "      <td>21.03</td>\n",
       "      <td>230.0</td>\n",
       "      <td>...</td>\n",
       "      <td>No</td>\n",
       "      <td>No</td>\n",
       "      <td>No</td>\n",
       "      <td>No</td>\n",
       "      <td>No</td>\n",
       "      <td>No</td>\n",
       "      <td>No</td>\n",
       "      <td>No</td>\n",
       "      <td>No</td>\n",
       "      <td>No</td>\n",
       "    </tr>\n",
       "  </tbody>\n",
       "</table>\n",
       "<p>1096 rows × 28 columns</p>\n",
       "</div>"
      ],
      "text/plain": [
       "                  date  temperaturemin  temperaturemax  precipitation  \\\n",
       "date                                                                    \n",
       "2014-01-01  2014-01-01            29.1            51.1           0.00   \n",
       "2014-01-02  2014-01-02            37.0            48.9           0.33   \n",
       "2014-01-03  2014-01-03            22.1            43.0           0.00   \n",
       "2014-01-04  2014-01-04            19.2            37.9           0.00   \n",
       "2014-01-05  2014-01-05            37.0            62.1           0.00   \n",
       "...                ...             ...             ...            ...   \n",
       "2016-12-27  2016-12-27            52.0            68.0           0.01   \n",
       "2016-12-28  2016-12-28            36.0            60.1           0.00   \n",
       "2016-12-29  2016-12-29            39.0            63.0           0.35   \n",
       "2016-12-30  2016-12-30            28.2            48.0           0.00   \n",
       "2016-12-31  2016-12-31            23.2            50.0           0.00   \n",
       "\n",
       "            snowfall  snowdepth  avgwindspeed  fastest2minwinddir  \\\n",
       "date                                                                \n",
       "2014-01-01       0.0        0.0          2.46               200.0   \n",
       "2014-01-02       0.0        0.0          2.68               310.0   \n",
       "2014-01-03       0.0        0.0          7.38               300.0   \n",
       "2014-01-04       0.0        0.0          2.24               120.0   \n",
       "2014-01-05       0.0        0.0          4.92               180.0   \n",
       "...              ...        ...           ...                 ...   \n",
       "2016-12-27       0.0        0.0         10.29               240.0   \n",
       "2016-12-28       0.0        0.0          2.91                10.0   \n",
       "2016-12-29       0.0        0.0          7.83               290.0   \n",
       "2016-12-30       0.0        0.0          8.28               280.0   \n",
       "2016-12-31       0.0        0.0          8.72               220.0   \n",
       "\n",
       "            fastest2minwindspeed  fastest5secwinddir  ...  drizzle snow  \\\n",
       "date                                                  ...                 \n",
       "2014-01-01                  8.95               210.0  ...       No   No   \n",
       "2014-01-02                 12.97               320.0  ...       No   No   \n",
       "2014-01-03                 21.92               310.0  ...       No   No   \n",
       "2014-01-04                  8.05               120.0  ...       No   No   \n",
       "2014-01-05                 16.11               180.0  ...       No   No   \n",
       "...                          ...                 ...  ...      ...  ...   \n",
       "2016-12-27                 19.91               230.0  ...       No   No   \n",
       "2016-12-28                  8.95                20.0  ...       No   No   \n",
       "2016-12-29                 21.92               320.0  ...       No   No   \n",
       "2016-12-30                 21.03               280.0  ...       No   No   \n",
       "2016-12-31                 21.03               230.0  ...       No   No   \n",
       "\n",
       "           freezingrain smokehaze thunder highwind hail blowingsnow dust  \\\n",
       "date                                                                       \n",
       "2014-01-01           No        No      No       No   No          No   No   \n",
       "2014-01-02           No        No      No       No   No          No   No   \n",
       "2014-01-03           No        No      No       No   No          No   No   \n",
       "2014-01-04           No        No      No       No   No          No   No   \n",
       "2014-01-05           No        No      No       No   No          No   No   \n",
       "...                 ...       ...     ...      ...  ...         ...  ...   \n",
       "2016-12-27           No        No      No       No   No          No   No   \n",
       "2016-12-28           No        No      No       No   No          No   No   \n",
       "2016-12-29           No        No      No       No   No          No   No   \n",
       "2016-12-30           No        No      No       No   No          No   No   \n",
       "2016-12-31           No        No      No       No   No          No   No   \n",
       "\n",
       "           freezingfog  \n",
       "date                    \n",
       "2014-01-01          No  \n",
       "2014-01-02          No  \n",
       "2014-01-03          No  \n",
       "2014-01-04          No  \n",
       "2014-01-05          No  \n",
       "...                ...  \n",
       "2016-12-27          No  \n",
       "2016-12-28          No  \n",
       "2016-12-29          No  \n",
       "2016-12-30          No  \n",
       "2016-12-31          No  \n",
       "\n",
       "[1096 rows x 28 columns]"
      ]
     },
     "execution_count": 20,
     "metadata": {},
     "output_type": "execute_result"
    }
   ],
   "source": [
    "df.loc[\"2014\":\"2016\"]"
   ]
  },
  {
   "cell_type": "code",
   "execution_count": 7,
   "metadata": {},
   "outputs": [
    {
     "data": {
      "text/plain": [
       "51.70246575342466"
      ]
     },
     "execution_count": 7,
     "metadata": {},
     "output_type": "execute_result"
    }
   ],
   "source": [
    "# Aggregations\n",
    "df.loc[\"2015\"].temperaturemin.mean()"
   ]
  },
  {
   "cell_type": "code",
   "execution_count": 16,
   "metadata": {},
   "outputs": [
    {
     "data": {
      "text/plain": [
       "False"
      ]
     },
     "execution_count": 16,
     "metadata": {},
     "output_type": "execute_result"
    }
   ],
   "source": [
    "# Conditional operatives\n",
    "df.loc[\"2015\"].temperaturemin.min() > df.loc[\"2016\"].temperaturemin.min()"
   ]
  },
  {
   "cell_type": "code",
   "execution_count": 9,
   "metadata": {},
   "outputs": [
    {
     "data": {
      "text/plain": [
       "dtype('<M8[ns]')"
      ]
     },
     "execution_count": 9,
     "metadata": {},
     "output_type": "execute_result"
    }
   ],
   "source": [
    "# Slicing\n",
    "df.loc[\"2015\":\"2019\"] \n",
    "df.index.dtype"
   ]
  },
  {
   "cell_type": "markdown",
   "metadata": {},
   "source": [
    "## Actividades"
   ]
  },
  {
   "cell_type": "markdown",
   "metadata": {},
   "source": [
    "A. ¿Cuántas veces ha nevado por año (`snowfall`)?"
   ]
  },
  {
   "cell_type": "code",
   "execution_count": 21,
   "metadata": {},
   "outputs": [
    {
     "data": {
      "text/plain": [
       "'2.2.2'"
      ]
     },
     "execution_count": 21,
     "metadata": {},
     "output_type": "execute_result"
    }
   ],
   "source": [
    "pd.__version__"
   ]
  },
  {
   "cell_type": "code",
   "execution_count": null,
   "metadata": {},
   "outputs": [
    {
     "data": {
      "text/plain": [
       "<bound method DataFrameGroupBy.aggregate of <pandas.core.groupby.generic.DataFrameGroupBy object at 0x1059fa950>>"
      ]
     },
     "execution_count": 22,
     "metadata": {},
     "output_type": "execute_result"
    }
   ],
   "source": [
    "df.groupby(df.index.year).agg()"
   ]
  },
  {
   "cell_type": "markdown",
   "metadata": {},
   "source": [
    "B. ¿En qué año se han registrado más nieve (`snowdepth`)? "
   ]
  },
  {
   "cell_type": "code",
   "execution_count": null,
   "metadata": {},
   "outputs": [],
   "source": []
  },
  {
   "cell_type": "markdown",
   "metadata": {},
   "source": []
  },
  {
   "cell_type": "markdown",
   "metadata": {},
   "source": [
    "C. Crea un dataframe que contenga la temperatura máxima de julio por cada año."
   ]
  },
  {
   "cell_type": "markdown",
   "metadata": {},
   "source": []
  },
  {
   "cell_type": "markdown",
   "metadata": {},
   "source": [
    "D. Haz una agrupación que contenga las temperaturas máximas y mínimas de cada mes de cada año."
   ]
  },
  {
   "cell_type": "markdown",
   "metadata": {},
   "source": []
  },
  {
   "cell_type": "markdown",
   "metadata": {},
   "source": [
    "# Pivotación de tablas "
   ]
  },
  {
   "cell_type": "markdown",
   "metadata": {},
   "source": [
    "Pivotar una tabla consiste en organizar las columnas a filas o las filas a columnas. Con ello disponemos los datos *transpuestos* a la modelización original.\n",
    "\n",
    "Enlace a la documentación:\n",
    "- https://pandas.pydata.org/docs/reference/api/pandas.pivot_table.html\n",
    "- https://pandas.pydata.org/docs/reference/api/pandas.pivot.html"
   ]
  },
  {
   "cell_type": "code",
   "execution_count": 25,
   "metadata": {},
   "outputs": [
    {
     "name": "stdout",
     "output_type": "stream",
     "text": [
      "   Municipio  Categoria  Values\n",
      "0      muni0  Inscritos       7\n",
      "1      muni0      Censo       5\n",
      "2      muni0  Población       7\n",
      "3      muni1  Inscritos       5\n",
      "4      muni1      Censo       9\n",
      "5      muni1  Población       7\n",
      "6      muni2  Inscritos       3\n",
      "7      muni2      Censo       4\n",
      "8      muni2  Población       2\n",
      "9      muni3  Inscritos       6\n",
      "10     muni3      Censo       3\n",
      "11     muni3  Población       2\n",
      "12     muni4  Inscritos       9\n",
      "13     muni4      Censo       3\n",
      "14     muni4  Población       5\n"
     ]
    }
   ],
   "source": [
    "import pandas as pd\n",
    "import numpy as np\n",
    "\n",
    "samples=5\n",
    "df= pd.DataFrame(\n",
    "    {\n",
    "        \"Municipio\":np.repeat([\"muni%i\"%i for i in range(samples)],3) ,\n",
    "        \"Categoria\"   :[\"Inscritos\",\"Censo\",\"Población\"]*(samples),\n",
    "        \"Values\"   : np.random.randint(1,10,samples*3)\n",
    "    })\n",
    "    \n",
    "    \n",
    "print(df)"
   ]
  },
  {
   "cell_type": "code",
   "execution_count": null,
   "metadata": {},
   "outputs": [],
   "source": [
    "df[df[\"Categoria\"]==\"Censo\"].mean()"
   ]
  },
  {
   "cell_type": "code",
   "execution_count": 32,
   "metadata": {},
   "outputs": [
    {
     "data": {
      "text/html": [
       "<div>\n",
       "<style scoped>\n",
       "    .dataframe tbody tr th:only-of-type {\n",
       "        vertical-align: middle;\n",
       "    }\n",
       "\n",
       "    .dataframe tbody tr th {\n",
       "        vertical-align: top;\n",
       "    }\n",
       "\n",
       "    .dataframe thead th {\n",
       "        text-align: right;\n",
       "    }\n",
       "</style>\n",
       "<table border=\"1\" class=\"dataframe\">\n",
       "  <thead>\n",
       "    <tr style=\"text-align: right;\">\n",
       "      <th></th>\n",
       "      <th>Values</th>\n",
       "    </tr>\n",
       "    <tr>\n",
       "      <th>Categoria</th>\n",
       "      <th></th>\n",
       "    </tr>\n",
       "  </thead>\n",
       "  <tbody>\n",
       "    <tr>\n",
       "      <th>Censo</th>\n",
       "      <td>4.8</td>\n",
       "    </tr>\n",
       "    <tr>\n",
       "      <th>Inscritos</th>\n",
       "      <td>6.0</td>\n",
       "    </tr>\n",
       "    <tr>\n",
       "      <th>Población</th>\n",
       "      <td>4.6</td>\n",
       "    </tr>\n",
       "  </tbody>\n",
       "</table>\n",
       "</div>"
      ],
      "text/plain": [
       "           Values\n",
       "Categoria        \n",
       "Censo         4.8\n",
       "Inscritos     6.0\n",
       "Población     4.6"
      ]
     },
     "execution_count": 32,
     "metadata": {},
     "output_type": "execute_result"
    }
   ],
   "source": [
    "# indexcolumn, Grouper, array, or list of the previous\n",
    "# Keys to group by on the pivot table index. If a list is passed, it can contain any of the other types (except list). \n",
    "# If an array is passed, it must be the same length as the data and will be used in the same manner as column values.\n",
    "pd.pivot_table(df, index=['Categoria'],values=\"Values\")"
   ]
  },
  {
   "cell_type": "code",
   "execution_count": 3,
   "metadata": {},
   "outputs": [
    {
     "name": "stderr",
     "output_type": "stream",
     "text": [
      "/var/folders/6j/7gfvt_29797dypw8t1wttblw0000gn/T/ipykernel_82835/1386358381.py:4: FutureWarning: pivot_table dropped a column because it failed to aggregate. This behavior is deprecated and will raise in a future version of pandas. Select only the columns that can be aggregated.\n",
      "  pd.pivot_table(df, columns=['Categoria'])\n"
     ]
    },
    {
     "data": {
      "text/html": [
       "<div>\n",
       "<style scoped>\n",
       "    .dataframe tbody tr th:only-of-type {\n",
       "        vertical-align: middle;\n",
       "    }\n",
       "\n",
       "    .dataframe tbody tr th {\n",
       "        vertical-align: top;\n",
       "    }\n",
       "\n",
       "    .dataframe thead th {\n",
       "        text-align: right;\n",
       "    }\n",
       "</style>\n",
       "<table border=\"1\" class=\"dataframe\">\n",
       "  <thead>\n",
       "    <tr style=\"text-align: right;\">\n",
       "      <th>Categoria</th>\n",
       "      <th>Censo</th>\n",
       "      <th>Inscritos</th>\n",
       "      <th>Población</th>\n",
       "    </tr>\n",
       "  </thead>\n",
       "  <tbody>\n",
       "    <tr>\n",
       "      <th>Values</th>\n",
       "      <td>4.8</td>\n",
       "      <td>6.4</td>\n",
       "      <td>6.6</td>\n",
       "    </tr>\n",
       "  </tbody>\n",
       "</table>\n",
       "</div>"
      ],
      "text/plain": [
       "Categoria  Censo  Inscritos  Población\n",
       "Values       4.8        6.4        6.6"
      ]
     },
     "execution_count": 3,
     "metadata": {},
     "output_type": "execute_result"
    }
   ],
   "source": [
    "# columnscolumn, Grouper, array, or list of the previous\n",
    "# Keys to group by on the pivot table column. If a list is passed, it can contain any of the other types (except list). \n",
    "# If an array is passed, it must be the same length as the data and will be used in the same manner as column values.\n",
    "pd.pivot_table(df, columns=['Categoria'])"
   ]
  },
  {
   "cell_type": "code",
   "execution_count": 34,
   "metadata": {},
   "outputs": [
    {
     "data": {
      "text/html": [
       "<div>\n",
       "<style scoped>\n",
       "    .dataframe tbody tr th:only-of-type {\n",
       "        vertical-align: middle;\n",
       "    }\n",
       "\n",
       "    .dataframe tbody tr th {\n",
       "        vertical-align: top;\n",
       "    }\n",
       "\n",
       "    .dataframe thead tr th {\n",
       "        text-align: left;\n",
       "    }\n",
       "\n",
       "    .dataframe thead tr:last-of-type th {\n",
       "        text-align: right;\n",
       "    }\n",
       "</style>\n",
       "<table border=\"1\" class=\"dataframe\">\n",
       "  <thead>\n",
       "    <tr>\n",
       "      <th></th>\n",
       "      <th colspan=\"3\" halign=\"left\">Values</th>\n",
       "    </tr>\n",
       "    <tr>\n",
       "      <th>Categoria</th>\n",
       "      <th>Censo</th>\n",
       "      <th>Inscritos</th>\n",
       "      <th>Población</th>\n",
       "    </tr>\n",
       "    <tr>\n",
       "      <th>Municipio</th>\n",
       "      <th></th>\n",
       "      <th></th>\n",
       "      <th></th>\n",
       "    </tr>\n",
       "  </thead>\n",
       "  <tbody>\n",
       "    <tr>\n",
       "      <th>muni0</th>\n",
       "      <td>5.0</td>\n",
       "      <td>7.0</td>\n",
       "      <td>7.0</td>\n",
       "    </tr>\n",
       "    <tr>\n",
       "      <th>muni1</th>\n",
       "      <td>9.0</td>\n",
       "      <td>5.0</td>\n",
       "      <td>7.0</td>\n",
       "    </tr>\n",
       "    <tr>\n",
       "      <th>muni2</th>\n",
       "      <td>4.0</td>\n",
       "      <td>3.0</td>\n",
       "      <td>2.0</td>\n",
       "    </tr>\n",
       "    <tr>\n",
       "      <th>muni3</th>\n",
       "      <td>3.0</td>\n",
       "      <td>6.0</td>\n",
       "      <td>2.0</td>\n",
       "    </tr>\n",
       "    <tr>\n",
       "      <th>muni4</th>\n",
       "      <td>3.0</td>\n",
       "      <td>9.0</td>\n",
       "      <td>5.0</td>\n",
       "    </tr>\n",
       "  </tbody>\n",
       "</table>\n",
       "</div>"
      ],
      "text/plain": [
       "          Values                    \n",
       "Categoria  Censo Inscritos Población\n",
       "Municipio                           \n",
       "muni0        5.0       7.0       7.0\n",
       "muni1        9.0       5.0       7.0\n",
       "muni2        4.0       3.0       2.0\n",
       "muni3        3.0       6.0       2.0\n",
       "muni4        3.0       9.0       5.0"
      ]
     },
     "execution_count": 34,
     "metadata": {},
     "output_type": "execute_result"
    }
   ],
   "source": [
    "df2 = pd.pivot_table(df, index=['Municipio'],columns=[\"Categoria\"])\n",
    "df2"
   ]
  },
  {
   "cell_type": "code",
   "execution_count": null,
   "metadata": {},
   "outputs": [
    {
     "ename": "KeyError",
     "evalue": "'Censo'",
     "output_type": "error",
     "traceback": [
      "\u001b[0;31m---------------------------------------------------------------------------\u001b[0m",
      "\u001b[0;31mKeyError\u001b[0m                                  Traceback (most recent call last)",
      "File \u001b[0;32m~/.pyenv/versions/3.11.0rc2/envs/my3110/lib/python3.11/site-packages/pandas/core/indexes/base.py:3805\u001b[0m, in \u001b[0;36mIndex.get_loc\u001b[0;34m(self, key)\u001b[0m\n\u001b[1;32m   3804\u001b[0m \u001b[38;5;28;01mtry\u001b[39;00m:\n\u001b[0;32m-> 3805\u001b[0m     \u001b[38;5;28;01mreturn\u001b[39;00m \u001b[38;5;28;43mself\u001b[39;49m\u001b[38;5;241;43m.\u001b[39;49m\u001b[43m_engine\u001b[49m\u001b[38;5;241;43m.\u001b[39;49m\u001b[43mget_loc\u001b[49m\u001b[43m(\u001b[49m\u001b[43mcasted_key\u001b[49m\u001b[43m)\u001b[49m\n\u001b[1;32m   3806\u001b[0m \u001b[38;5;28;01mexcept\u001b[39;00m \u001b[38;5;167;01mKeyError\u001b[39;00m \u001b[38;5;28;01mas\u001b[39;00m err:\n",
      "File \u001b[0;32mindex.pyx:167\u001b[0m, in \u001b[0;36mpandas._libs.index.IndexEngine.get_loc\u001b[0;34m()\u001b[0m\n",
      "File \u001b[0;32mindex.pyx:196\u001b[0m, in \u001b[0;36mpandas._libs.index.IndexEngine.get_loc\u001b[0;34m()\u001b[0m\n",
      "File \u001b[0;32mpandas/_libs/hashtable_class_helper.pxi:7081\u001b[0m, in \u001b[0;36mpandas._libs.hashtable.PyObjectHashTable.get_item\u001b[0;34m()\u001b[0m\n",
      "File \u001b[0;32mpandas/_libs/hashtable_class_helper.pxi:7089\u001b[0m, in \u001b[0;36mpandas._libs.hashtable.PyObjectHashTable.get_item\u001b[0;34m()\u001b[0m\n",
      "\u001b[0;31mKeyError\u001b[0m: 'Censo'",
      "\nThe above exception was the direct cause of the following exception:\n",
      "\u001b[0;31mKeyError\u001b[0m                                  Traceback (most recent call last)",
      "Cell \u001b[0;32mIn[35], line 1\u001b[0m\n\u001b[0;32m----> 1\u001b[0m \u001b[43mdf2\u001b[49m\u001b[43m[\u001b[49m\u001b[38;5;124;43m\"\u001b[39;49m\u001b[38;5;124;43mCenso\u001b[39;49m\u001b[38;5;124;43m\"\u001b[39;49m\u001b[43m]\u001b[49m\u001b[38;5;241m.\u001b[39mmean()\n",
      "File \u001b[0;32m~/.pyenv/versions/3.11.0rc2/envs/my3110/lib/python3.11/site-packages/pandas/core/frame.py:4101\u001b[0m, in \u001b[0;36mDataFrame.__getitem__\u001b[0;34m(self, key)\u001b[0m\n\u001b[1;32m   4099\u001b[0m \u001b[38;5;28;01mif\u001b[39;00m is_single_key:\n\u001b[1;32m   4100\u001b[0m     \u001b[38;5;28;01mif\u001b[39;00m \u001b[38;5;28mself\u001b[39m\u001b[38;5;241m.\u001b[39mcolumns\u001b[38;5;241m.\u001b[39mnlevels \u001b[38;5;241m>\u001b[39m \u001b[38;5;241m1\u001b[39m:\n\u001b[0;32m-> 4101\u001b[0m         \u001b[38;5;28;01mreturn\u001b[39;00m \u001b[38;5;28;43mself\u001b[39;49m\u001b[38;5;241;43m.\u001b[39;49m\u001b[43m_getitem_multilevel\u001b[49m\u001b[43m(\u001b[49m\u001b[43mkey\u001b[49m\u001b[43m)\u001b[49m\n\u001b[1;32m   4102\u001b[0m     indexer \u001b[38;5;241m=\u001b[39m \u001b[38;5;28mself\u001b[39m\u001b[38;5;241m.\u001b[39mcolumns\u001b[38;5;241m.\u001b[39mget_loc(key)\n\u001b[1;32m   4103\u001b[0m     \u001b[38;5;28;01mif\u001b[39;00m is_integer(indexer):\n",
      "File \u001b[0;32m~/.pyenv/versions/3.11.0rc2/envs/my3110/lib/python3.11/site-packages/pandas/core/frame.py:4159\u001b[0m, in \u001b[0;36mDataFrame._getitem_multilevel\u001b[0;34m(self, key)\u001b[0m\n\u001b[1;32m   4157\u001b[0m \u001b[38;5;28;01mdef\u001b[39;00m \u001b[38;5;21m_getitem_multilevel\u001b[39m(\u001b[38;5;28mself\u001b[39m, key):\n\u001b[1;32m   4158\u001b[0m     \u001b[38;5;66;03m# self.columns is a MultiIndex\u001b[39;00m\n\u001b[0;32m-> 4159\u001b[0m     loc \u001b[38;5;241m=\u001b[39m \u001b[38;5;28;43mself\u001b[39;49m\u001b[38;5;241;43m.\u001b[39;49m\u001b[43mcolumns\u001b[49m\u001b[38;5;241;43m.\u001b[39;49m\u001b[43mget_loc\u001b[49m\u001b[43m(\u001b[49m\u001b[43mkey\u001b[49m\u001b[43m)\u001b[49m\n\u001b[1;32m   4160\u001b[0m     \u001b[38;5;28;01mif\u001b[39;00m \u001b[38;5;28misinstance\u001b[39m(loc, (\u001b[38;5;28mslice\u001b[39m, np\u001b[38;5;241m.\u001b[39mndarray)):\n\u001b[1;32m   4161\u001b[0m         new_columns \u001b[38;5;241m=\u001b[39m \u001b[38;5;28mself\u001b[39m\u001b[38;5;241m.\u001b[39mcolumns[loc]\n",
      "File \u001b[0;32m~/.pyenv/versions/3.11.0rc2/envs/my3110/lib/python3.11/site-packages/pandas/core/indexes/multi.py:3040\u001b[0m, in \u001b[0;36mMultiIndex.get_loc\u001b[0;34m(self, key)\u001b[0m\n\u001b[1;32m   3037\u001b[0m     \u001b[38;5;28;01mreturn\u001b[39;00m mask\n\u001b[1;32m   3039\u001b[0m \u001b[38;5;28;01mif\u001b[39;00m \u001b[38;5;129;01mnot\u001b[39;00m \u001b[38;5;28misinstance\u001b[39m(key, \u001b[38;5;28mtuple\u001b[39m):\n\u001b[0;32m-> 3040\u001b[0m     loc \u001b[38;5;241m=\u001b[39m \u001b[38;5;28;43mself\u001b[39;49m\u001b[38;5;241;43m.\u001b[39;49m\u001b[43m_get_level_indexer\u001b[49m\u001b[43m(\u001b[49m\u001b[43mkey\u001b[49m\u001b[43m,\u001b[49m\u001b[43m \u001b[49m\u001b[43mlevel\u001b[49m\u001b[38;5;241;43m=\u001b[39;49m\u001b[38;5;241;43m0\u001b[39;49m\u001b[43m)\u001b[49m\n\u001b[1;32m   3041\u001b[0m     \u001b[38;5;28;01mreturn\u001b[39;00m _maybe_to_slice(loc)\n\u001b[1;32m   3043\u001b[0m keylen \u001b[38;5;241m=\u001b[39m \u001b[38;5;28mlen\u001b[39m(key)\n",
      "File \u001b[0;32m~/.pyenv/versions/3.11.0rc2/envs/my3110/lib/python3.11/site-packages/pandas/core/indexes/multi.py:3391\u001b[0m, in \u001b[0;36mMultiIndex._get_level_indexer\u001b[0;34m(self, key, level, indexer)\u001b[0m\n\u001b[1;32m   3388\u001b[0m         \u001b[38;5;28;01mreturn\u001b[39;00m \u001b[38;5;28mslice\u001b[39m(i, j, step)\n\u001b[1;32m   3390\u001b[0m \u001b[38;5;28;01melse\u001b[39;00m:\n\u001b[0;32m-> 3391\u001b[0m     idx \u001b[38;5;241m=\u001b[39m \u001b[38;5;28;43mself\u001b[39;49m\u001b[38;5;241;43m.\u001b[39;49m\u001b[43m_get_loc_single_level_index\u001b[49m\u001b[43m(\u001b[49m\u001b[43mlevel_index\u001b[49m\u001b[43m,\u001b[49m\u001b[43m \u001b[49m\u001b[43mkey\u001b[49m\u001b[43m)\u001b[49m\n\u001b[1;32m   3393\u001b[0m     \u001b[38;5;28;01mif\u001b[39;00m level \u001b[38;5;241m>\u001b[39m \u001b[38;5;241m0\u001b[39m \u001b[38;5;129;01mor\u001b[39;00m \u001b[38;5;28mself\u001b[39m\u001b[38;5;241m.\u001b[39m_lexsort_depth \u001b[38;5;241m==\u001b[39m \u001b[38;5;241m0\u001b[39m:\n\u001b[1;32m   3394\u001b[0m         \u001b[38;5;66;03m# Desired level is not sorted\u001b[39;00m\n\u001b[1;32m   3395\u001b[0m         \u001b[38;5;28;01mif\u001b[39;00m \u001b[38;5;28misinstance\u001b[39m(idx, \u001b[38;5;28mslice\u001b[39m):\n\u001b[1;32m   3396\u001b[0m             \u001b[38;5;66;03m# test_get_loc_partial_timestamp_multiindex\u001b[39;00m\n",
      "File \u001b[0;32m~/.pyenv/versions/3.11.0rc2/envs/my3110/lib/python3.11/site-packages/pandas/core/indexes/multi.py:2980\u001b[0m, in \u001b[0;36mMultiIndex._get_loc_single_level_index\u001b[0;34m(self, level_index, key)\u001b[0m\n\u001b[1;32m   2978\u001b[0m     \u001b[38;5;28;01mreturn\u001b[39;00m \u001b[38;5;241m-\u001b[39m\u001b[38;5;241m1\u001b[39m\n\u001b[1;32m   2979\u001b[0m \u001b[38;5;28;01melse\u001b[39;00m:\n\u001b[0;32m-> 2980\u001b[0m     \u001b[38;5;28;01mreturn\u001b[39;00m \u001b[43mlevel_index\u001b[49m\u001b[38;5;241;43m.\u001b[39;49m\u001b[43mget_loc\u001b[49m\u001b[43m(\u001b[49m\u001b[43mkey\u001b[49m\u001b[43m)\u001b[49m\n",
      "File \u001b[0;32m~/.pyenv/versions/3.11.0rc2/envs/my3110/lib/python3.11/site-packages/pandas/core/indexes/base.py:3812\u001b[0m, in \u001b[0;36mIndex.get_loc\u001b[0;34m(self, key)\u001b[0m\n\u001b[1;32m   3807\u001b[0m     \u001b[38;5;28;01mif\u001b[39;00m \u001b[38;5;28misinstance\u001b[39m(casted_key, \u001b[38;5;28mslice\u001b[39m) \u001b[38;5;129;01mor\u001b[39;00m (\n\u001b[1;32m   3808\u001b[0m         \u001b[38;5;28misinstance\u001b[39m(casted_key, abc\u001b[38;5;241m.\u001b[39mIterable)\n\u001b[1;32m   3809\u001b[0m         \u001b[38;5;129;01mand\u001b[39;00m \u001b[38;5;28many\u001b[39m(\u001b[38;5;28misinstance\u001b[39m(x, \u001b[38;5;28mslice\u001b[39m) \u001b[38;5;28;01mfor\u001b[39;00m x \u001b[38;5;129;01min\u001b[39;00m casted_key)\n\u001b[1;32m   3810\u001b[0m     ):\n\u001b[1;32m   3811\u001b[0m         \u001b[38;5;28;01mraise\u001b[39;00m InvalidIndexError(key)\n\u001b[0;32m-> 3812\u001b[0m     \u001b[38;5;28;01mraise\u001b[39;00m \u001b[38;5;167;01mKeyError\u001b[39;00m(key) \u001b[38;5;28;01mfrom\u001b[39;00m \u001b[38;5;21;01merr\u001b[39;00m\n\u001b[1;32m   3813\u001b[0m \u001b[38;5;28;01mexcept\u001b[39;00m \u001b[38;5;167;01mTypeError\u001b[39;00m:\n\u001b[1;32m   3814\u001b[0m     \u001b[38;5;66;03m# If we have a listlike key, _check_indexing_error will raise\u001b[39;00m\n\u001b[1;32m   3815\u001b[0m     \u001b[38;5;66;03m#  InvalidIndexError. Otherwise we fall through and re-raise\u001b[39;00m\n\u001b[1;32m   3816\u001b[0m     \u001b[38;5;66;03m#  the TypeError.\u001b[39;00m\n\u001b[1;32m   3817\u001b[0m     \u001b[38;5;28mself\u001b[39m\u001b[38;5;241m.\u001b[39m_check_indexing_error(key)\n",
      "\u001b[0;31mKeyError\u001b[0m: 'Censo'"
     ]
    }
   ],
   "source": [
    "df2[\"Censo\"].mean() #Alerta, pivotar también genera multi-columas/indices. "
   ]
  },
  {
   "cell_type": "code",
   "execution_count": 5,
   "metadata": {},
   "outputs": [
    {
     "name": "stderr",
     "output_type": "stream",
     "text": [
      "/var/folders/6j/7gfvt_29797dypw8t1wttblw0000gn/T/ipykernel_82835/1620381455.py:4: FutureWarning: The operation <built-in function sum> failed on a column. If any error is raised, this will raise an exception in a future version of pandas. Drop these columns to avoid this warning.\n",
      "  pd.pivot_table(df, index=['Categoria'], aggfunc=sum)\n"
     ]
    },
    {
     "data": {
      "text/html": [
       "<div>\n",
       "<style scoped>\n",
       "    .dataframe tbody tr th:only-of-type {\n",
       "        vertical-align: middle;\n",
       "    }\n",
       "\n",
       "    .dataframe tbody tr th {\n",
       "        vertical-align: top;\n",
       "    }\n",
       "\n",
       "    .dataframe thead th {\n",
       "        text-align: right;\n",
       "    }\n",
       "</style>\n",
       "<table border=\"1\" class=\"dataframe\">\n",
       "  <thead>\n",
       "    <tr style=\"text-align: right;\">\n",
       "      <th></th>\n",
       "      <th>Values</th>\n",
       "    </tr>\n",
       "    <tr>\n",
       "      <th>Categoria</th>\n",
       "      <th></th>\n",
       "    </tr>\n",
       "  </thead>\n",
       "  <tbody>\n",
       "    <tr>\n",
       "      <th>Censo</th>\n",
       "      <td>24</td>\n",
       "    </tr>\n",
       "    <tr>\n",
       "      <th>Inscritos</th>\n",
       "      <td>32</td>\n",
       "    </tr>\n",
       "    <tr>\n",
       "      <th>Población</th>\n",
       "      <td>33</td>\n",
       "    </tr>\n",
       "  </tbody>\n",
       "</table>\n",
       "</div>"
      ],
      "text/plain": [
       "           Values\n",
       "Categoria        \n",
       "Censo          24\n",
       "Inscritos      32\n",
       "Población      33"
      ]
     },
     "execution_count": 5,
     "metadata": {},
     "output_type": "execute_result"
    }
   ],
   "source": [
    "# aggfuncfunction, list of functions, dict, default “mean”\n",
    "# If a list of functions is passed, the resulting pivot table will have hierarchical columns whose top level are the function names\n",
    "#  (inferred from the function objects themselves).\n",
    "pd.pivot_table(df, index=['Categoria'], aggfunc=sum)\n"
   ]
  },
  {
   "cell_type": "code",
   "execution_count": null,
   "metadata": {},
   "outputs": [],
   "source": []
  }
 ],
 "metadata": {
  "celltoolbar": "Slideshow",
  "kernelspec": {
   "display_name": "my3110",
   "language": "python",
   "name": "python3"
  },
  "language_info": {
   "codemirror_mode": {
    "name": "ipython",
    "version": 3
   },
   "file_extension": ".py",
   "mimetype": "text/x-python",
   "name": "python",
   "nbconvert_exporter": "python",
   "pygments_lexer": "ipython3",
   "version": "3.11.0"
  }
 },
 "nbformat": 4,
 "nbformat_minor": 1
}
