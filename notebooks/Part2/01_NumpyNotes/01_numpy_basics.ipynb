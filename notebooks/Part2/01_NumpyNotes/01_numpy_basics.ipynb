{
 "cells": [
  {
   "cell_type": "markdown",
   "metadata": {},
   "source": [
    "# Librería Numpy\n",
    "\n",
    "La librería numpy ofrece funciones eficientes para la manipulación y el procesamiento numérico en arrays.\n",
    "\n",
    "Este tipo de estructuras de almacenamiento númerico no son exactamente listas aunque puedan aparentar ese comportamiento (*duck-style*). Sus elementos son homogéneos e incluyen operaciones básicas y operaciones más complejas como álgebra lineal.\n",
    "\n",
    "Numpy forma parte del *core* de otras librerías como Pandas.\n",
    "\n",
    "\n",
    "https://numpy.org/doc/stable/index.html\n"
   ]
  },
  {
   "cell_type": "markdown",
   "metadata": {},
   "source": [
    "mediante el siguiente magicomand veremos si tenemos la librería numpy instalada (SO requerido: Mac o Linux, o en Google Colab)"
   ]
  },
  {
   "cell_type": "code",
   "execution_count": null,
   "metadata": {},
   "outputs": [],
   "source": [
    "!pip freeze | grep numpy\n"
   ]
  },
  {
   "cell_type": "code",
   "execution_count": null,
   "metadata": {},
   "outputs": [],
   "source": [
    "import numpy as np\n",
    "\n",
    "data = np.array([1,0]) \n",
    "print(data[0])\n",
    "print(type(data[0]))\n",
    "\n",
    "data = np.array([[1,0],[2,0],[3,0]])\n",
    "print(data[0][:0])\n"
   ]
  },
  {
   "cell_type": "code",
   "execution_count": null,
   "metadata": {},
   "outputs": [],
   "source": [
    "print(data.shape)\n",
    "print(data.size)\n",
    "print(data.ndim)\n",
    "print(data.dtype)"
   ]
  },
  {
   "cell_type": "markdown",
   "metadata": {},
   "source": [
    "Tipos de datos soportados:\n",
    "\n",
    "- int: int8, int16, int32, int64\n",
    "- uint: uint8, uint16, uint32, uint64\n",
    "- bool: Bool\n",
    "- float: float16, float32, float64, float128\n",
    "- complex: complex64, complex128, complex256 "
   ]
  },
  {
   "cell_type": "code",
   "execution_count": null,
   "metadata": {},
   "outputs": [],
   "source": [
    "data = np.array([[1,0],[2,0]],dtype=np.int32)\n",
    "data = np.array([[1,0],[2,0]],dtype=np.complex64)\n",
    "data = np.array([[1,0],[2,0]],dtype=np.float16)\n",
    "# Conversión\n",
    "data = np.array(data,dtype=np.uint)\n",
    "data = data.astype(np.bool_)\n",
    "print(data)"
   ]
  },
  {
   "cell_type": "markdown",
   "metadata": {},
   "source": [
    "## Generación \n",
    "\n",
    "No todo es cargar valores. A veces es necesario generar una muestra de puntos aleartoria, un vector neutro, o escala de valores."
   ]
  },
  {
   "cell_type": "code",
   "execution_count": null,
   "metadata": {},
   "outputs": [],
   "source": [
    "data = np.array(range(10))\n",
    "print(data)\n",
    "\n",
    "data = np.arange(10)\n",
    "print(data)\n",
    "\n",
    "data = np.zeros((10,5))\n",
    "# https://numpy.org/doc/stable/reference/generated/numpy.zeros.html\n",
    "print(data)\n",
    "\n",
    "data = np.ones(10)\n",
    "print(data)"
   ]
  },
  {
   "cell_type": "code",
   "execution_count": null,
   "metadata": {},
   "outputs": [],
   "source": [
    "shape = (10,80) # 10 rows x 80 cols\n",
    "data = np.zeros(shape)\n",
    "print(data)"
   ]
  },
  {
   "cell_type": "code",
   "execution_count": null,
   "metadata": {},
   "outputs": [],
   "source": [
    "data = np.linspace(0,1,10)\n",
    "print(data)"
   ]
  },
  {
   "cell_type": "code",
   "execution_count": null,
   "metadata": {},
   "outputs": [],
   "source": [
    "data = np.logspace(0,2,10) # 10puntos entre 2**0 y 2**2\n",
    "print(data)"
   ]
  },
  {
   "cell_type": "code",
   "execution_count": null,
   "metadata": {},
   "outputs": [],
   "source": [
    "data = np.identity(3)\n",
    "print(data)\n",
    "print(\"-\"*10)\n",
    "\n",
    "data = np.eye(3,k=1) # https://numpy.org/doc/stable/reference/generated/numpy.eye.html\n",
    "print(data)\n",
    "print(\"-\"*10)\n",
    "\n",
    "data = np.diag(range(1,4))\n",
    "print(data)\n"
   ]
  },
  {
   "cell_type": "markdown",
   "metadata": {},
   "source": [
    "### Generación o sampling aleatorio"
   ]
  },
  {
   "cell_type": "code",
   "execution_count": null,
   "metadata": {},
   "outputs": [],
   "source": [
    "data = np.random.rand(3,3)\n",
    "print(data)\n",
    "print(\"-\"*20)\n",
    "\n",
    "data = np.random.randint(1,10,size=(2,2))\n",
    "print(data)\n",
    "print(\"-\"*20)\n",
    "\n",
    "data = np.random.randint(1,10,20).reshape(10,2)\n",
    "print(data)\n",
    "print(\"-\"*20)\n",
    "\n",
    "data = np.array(np.random.rand(20)*10,dtype=int).reshape(10,2)\n",
    "print(data)"
   ]
  },
  {
   "cell_type": "markdown",
   "metadata": {},
   "source": [
    "## Actividades\n",
    "\n",
    "### Actividad 1\n",
    "Imaginad la siguiente actividad donde tenemos que realizar la siguiente matriz:\n",
    "\n",
    "```\n",
    "array([[0, 1, 2, 3, 4, 5, 6, 7, 8, 9],\n",
    "       [0, 1, 2, 3, 4, 5, 6, 7, 8, 9],\n",
    "       [0, 1, 2, 3, 4, 5, 6, 7, 8, 9],\n",
    "       [0, 1, 2, 3, 4, 5, 6, 7, 8, 9],\n",
    "       [0, 1, 2, 3, 4, 5, 6, 7, 8, 9],\n",
    "       [0, 1, 2, 3, 4, 5, 6, 7, 8, 9],\n",
    "       [0, 1, 2, 3, 4, 5, 6, 7, 8, 9],\n",
    "       [0, 1, 2, 3, 4, 5, 6, 7, 8, 9],\n",
    "       [0, 1, 2, 3, 4, 5, 6, 7, 8, 9],\n",
    "       [0, 1, 2, 3, 4, 5, 6, 7, 8, 9]])\n",
    "```\n",
    "\n",
    "tip: https://numpy.org/doc/stable/reference/generated/numpy.repeat.html"
   ]
  },
  {
   "cell_type": "code",
   "execution_count": null,
   "metadata": {},
   "outputs": [],
   "source": [
    "# TODO ACTIVITY"
   ]
  },
  {
   "cell_type": "markdown",
   "metadata": {},
   "source": [
    "### Actividad 2\n",
    "\n",
    "Generar la siguiente estructura a partir del array([1, 2, 3])\n",
    "\n",
    "```\n",
    "array([1, 1, 1, 2, 2, 2, 3, 3, 3, 1, 2, 3, 1, 2, 3, 1, 2, 3])\n",
    "```\n",
    "\n",
    "tip: https://numpy.org/doc/stable/reference/generated/numpy.tile.html\n"
   ]
  },
  {
   "cell_type": "code",
   "execution_count": null,
   "metadata": {},
   "outputs": [],
   "source": [
    "# TODO Activity"
   ]
  },
  {
   "cell_type": "markdown",
   "metadata": {},
   "source": []
  },
  {
   "cell_type": "markdown",
   "metadata": {},
   "source": [
    "## Carga y volcado de datos\n",
    "\n",
    "Entrada y salida\n",
    "\n",
    "¿Cómo cargar datos de un fichero y cómo salvar resultados?\n",
    "\n",
    "Siempre hay  que considerar el tipo de formato con el que se han guardado los datos. El formato influye en el rendimiento de las operaciones (R/W) y la capacidad de almacenamiento utilizada.\n",
    "- CSV suele contener texto, no es eficiente, pero fácil de ingerir en otras herramientas. ¿Tiene sentido un fichero csv para matrices númericas? https://datos.gob.es/es/catalogo\n",
    "  \n",
    "- Formatos binarios:\n",
    "  - npy, npz propios de numpy\n",
    "  - pickle - https://docs.python.org/3/library/pickle.html"
   ]
  },
  {
   "cell_type": "markdown",
   "metadata": {},
   "source": [
    "## Carga de datos con Pandas a Numpy (solución no-ideal)\n",
    "\n",
    "Vamos a utilizar cualquier fichero csv (i.e. altura de gabilos) para tener en una estructura de numpy dichos valores de altura."
   ]
  },
  {
   "cell_type": "code",
   "execution_count": null,
   "metadata": {},
   "outputs": [],
   "source": [
    "!cat data/\"GALIBOS TUNELES MADRID\".csv"
   ]
  },
  {
   "cell_type": "markdown",
   "metadata": {},
   "source": [
    "**Recomendaciones** No pongais nombres de ficheros con espacios ni con acentos! "
   ]
  },
  {
   "cell_type": "code",
   "execution_count": null,
   "metadata": {},
   "outputs": [],
   "source": [
    "import pandas as pd\n",
    "df = pd.read_csv(\"data/GALIBOS TUNELES MADRID.csv\",sep=\";\")\n",
    "df.columns\n",
    "height = df[df.columns[1]]\n",
    "print(height)\n",
    "## ACTIVIDAD: Como solucionaomos este error!!!!!!!!\n",
    "\n",
    "data = np.array(height,np.float32)\n",
    "print(data)"
   ]
  },
  {
   "cell_type": "markdown",
   "metadata": {},
   "source": [
    "#### Usando métodos de numpy\n",
    "\n"
   ]
  },
  {
   "cell_type": "code",
   "execution_count": null,
   "metadata": {},
   "outputs": [],
   "source": [
    "# https://numpy.org/doc/stable/reference/generated/numpy.loadtxt.html\n",
    "data = np.loadtxt(\"data/GALIBOS TUNELES MADRID.csv\", delimiter=\";\", usecols = (1), skiprows=1, converters={1: lambda s:float(str(s.decode()).replace(\",\",\".\"))})\n",
    "print(data)\n",
    "print(data.shape)"
   ]
  },
  {
   "cell_type": "markdown",
   "metadata": {},
   "source": [
    "### Volviendo a trabajar con datos numéricos"
   ]
  },
  {
   "cell_type": "code",
   "execution_count": null,
   "metadata": {},
   "outputs": [],
   "source": [
    "data = np.random.uniform(0.01,20.0,size=100000)\n",
    "print(data[:5])"
   ]
  },
  {
   "cell_type": "code",
   "execution_count": null,
   "metadata": {},
   "outputs": [],
   "source": [
    "f = open(\"data/tmp.npy\",\"wb\") # Writing file, in Binary mode\n",
    "np.save(f,data)\n",
    "f.close()\n",
    "\n",
    "with open(\"data/tmp2.csv\",\"w\") as f2: # Writing but in txt\n",
    "    for n in data:\n",
    "        f2.write(str(n)+\",\")\n"
   ]
  },
  {
   "cell_type": "code",
   "execution_count": null,
   "metadata": {},
   "outputs": [],
   "source": [
    "!ls -lih data/tmp*"
   ]
  },
  {
   "cell_type": "code",
   "execution_count": null,
   "metadata": {},
   "outputs": [],
   "source": [
    "data = np.random.uniform(0.01,20.0,size=100000)\n",
    "data2 = np.random.normal(0.3,10,100000)\n",
    "print(data[:5])\n",
    "print(data2[:5])\n",
    "\n",
    "f = open(\"data/tmp.npy\",\"wb\") # Writing file, in Binary mode\n",
    "np.save(f,data)\n",
    "np.save(f,data2)\n",
    "f.close()\n",
    "\n",
    "print(\"saved\")\n",
    "\n",
    "\n",
    "with open('data/tmp.npy', 'rb') as f:\n",
    "    a = np.load(f)\n",
    "    b = np.load(f)\n",
    "\n",
    "print(a[:5])\n",
    "print(b[:5])\n"
   ]
  },
  {
   "cell_type": "code",
   "execution_count": null,
   "metadata": {},
   "outputs": [],
   "source": [
    "import pickle\n",
    "\n",
    "with open(\"data/tmp3.npy\",'wb') as f:\n",
    "    pickle.dump(a, f)\n",
    "    pickle.dump(b, f)\n",
    "    "
   ]
  },
  {
   "cell_type": "code",
   "execution_count": null,
   "metadata": {},
   "outputs": [],
   "source": []
  },
  {
   "cell_type": "code",
   "execution_count": null,
   "metadata": {},
   "outputs": [],
   "source": [
    "!ls -lih data/tmp*"
   ]
  },
  {
   "cell_type": "code",
   "execution_count": null,
   "metadata": {},
   "outputs": [],
   "source": [
    "f = \"data/tmp3.npy\"\n",
    "ca = pickle.load(open(f,\"rb\"))\n",
    "print(ca)\n",
    "cb = pickle.load(open(f,\"rb\"))\n",
    "print(cb)\n",
    "\n",
    "# Qué paso en este punto?\n",
    "# ¿Cómo podriamos haber guardado ambas variables dentro del mismo fichero?"
   ]
  },
  {
   "cell_type": "markdown",
   "metadata": {},
   "source": [
    "## Operaciones con series numpy"
   ]
  },
  {
   "cell_type": "code",
   "execution_count": null,
   "metadata": {},
   "outputs": [],
   "source": [
    "import numpy as np\n",
    "a = np.array([.0,0.1])\n",
    "b = np.array([1,1])\n",
    "print(a+b)\n",
    "print(a-b)\n",
    "print(a/b)\n",
    "print(a*b)\n",
    "print(2**a)"
   ]
  },
  {
   "cell_type": "code",
   "execution_count": null,
   "metadata": {},
   "outputs": [],
   "source": [
    "c = np.array([1,1,1])\n",
    "print(a+c) #Alerta"
   ]
  },
  {
   "cell_type": "code",
   "execution_count": null,
   "metadata": {},
   "outputs": [],
   "source": [
    "c = np.array([1,1,1,1]).reshape(2,2)\n",
    "print(a*c)\n",
    "print(\"-\"*10)\n",
    "print(a.dot(c)) #https://numpy.org/doc/stable/reference/generated/numpy.dot.html\n"
   ]
  },
  {
   "cell_type": "code",
   "execution_count": null,
   "metadata": {},
   "outputs": [],
   "source": [
    "# Tensor dot \n",
    "#https://numpy.org/doc/stable/reference/generated/numpy.tensordot.html#numpy.tensordot\n",
    "a = np.arange(60.).reshape(3,4,5)\n",
    "b = np.arange(24.).reshape(4,3,2)\n",
    "c = np.tensordot(a,b, axes=([1,0],[0,1]))\n",
    "print(c)\n",
    "print(c.shape)"
   ]
  },
  {
   "cell_type": "code",
   "execution_count": null,
   "metadata": {},
   "outputs": [],
   "source": [
    "# Einseum \n",
    "# https://numpy.org/doc/stable/reference/generated/numpy.einsum.html\n",
    "\n",
    "a = np.arange(25).reshape(5,5)\n",
    "np.einsum(\"ii\",a)"
   ]
  },
  {
   "cell_type": "markdown",
   "metadata": {},
   "source": [
    "#### Kron product\n",
    "https://en.wikipedia.org/wiki/Kronecker_product\n",
    "\n",
    "$$a \\otimes b$$"
   ]
  },
  {
   "cell_type": "code",
   "execution_count": null,
   "metadata": {},
   "outputs": [],
   "source": [
    "a = np.arange(1,5).reshape(2,2)\n",
    "print(a)\n",
    "b = np.array([0,5,6,7]).reshape(2,2)\n",
    "print(b)\n",
    "print(\"-\"*10)\n",
    "k = np.kron(a,b)\n",
    "print(k)\n"
   ]
  },
  {
   "cell_type": "markdown",
   "metadata": {},
   "source": [
    "### Actividad\n",
    "Implementa con operaciones básicas de numpy la multiplicación de Kron.<br/>\n",
    "Compara tiempos de ejecución entre tú versión y la ya implementada."
   ]
  },
  {
   "cell_type": "code",
   "execution_count": null,
   "metadata": {},
   "outputs": [],
   "source": [
    "#TODO Activity"
   ]
  },
  {
   "cell_type": "markdown",
   "metadata": {},
   "source": [
    "## Funciones sobre series"
   ]
  },
  {
   "cell_type": "code",
   "execution_count": null,
   "metadata": {},
   "outputs": [],
   "source": [
    "a = np.array(range(10))\n",
    "print(np.cos(a))\n",
    "print(np.exp(a))\n",
    "print(np.log(a))"
   ]
  },
  {
   "cell_type": "code",
   "execution_count": null,
   "metadata": {},
   "outputs": [],
   "source": [
    "print(np.sum(a))\n",
    "print(np.cumsum(a))\n",
    "print(np.mean(a))\n",
    "\n",
    "print(\"\\n\",np.cumprod(a))\n",
    "print(np.min(a))\n",
    "print(np.argmax(a))\n"
   ]
  },
  {
   "cell_type": "code",
   "execution_count": null,
   "metadata": {},
   "outputs": [],
   "source": [
    "print(a.mean())\n",
    "print(a.min())\n",
    "print(a.argmax())"
   ]
  },
  {
   "cell_type": "code",
   "execution_count": null,
   "metadata": {},
   "outputs": [],
   "source": []
  },
  {
   "cell_type": "code",
   "execution_count": null,
   "metadata": {},
   "outputs": [],
   "source": [
    "a = a.reshape(2,5)\n",
    "print(a)\n",
    "print(\"-\"*10)\n",
    "print(np.sum(a,axis=1))\n",
    "print(np.sum(a,axis=0))"
   ]
  },
  {
   "cell_type": "markdown",
   "metadata": {},
   "source": [
    "## Actividades\n",
    "\n",
    "### Actividad. 1\n",
    "\n",
    "¿Cómo calcular la distancia euclidea entre dos vectores?\n",
    "$$ d{v_1,v_2}=\\sqrt{\\sum_{k=1}^n(x_{1,k}-x_{2,k})^2} $$"
   ]
  },
  {
   "cell_type": "code",
   "execution_count": null,
   "metadata": {},
   "outputs": [],
   "source": [
    "v1 = np.arange(1,4)\n",
    "v2 = np.arange(4,7)\n",
    "#TODO Activity\n",
    "# Solucion == 5.196152422706632"
   ]
  },
  {
   "cell_type": "markdown",
   "metadata": {},
   "source": [
    "### Actividad. 2\n",
    "\n",
    "¿Y calcular la distancia de Manhattan?\n",
    "\n",
    "$$ d{v_1,v_2}= \\sum_{k=1}^n \\mid x_{1,k} - x_{2,k} \\mid $$"
   ]
  },
  {
   "cell_type": "code",
   "execution_count": null,
   "metadata": {},
   "outputs": [],
   "source": [
    "v1 = np.arange(1,4)\n",
    "v2 = np.arange(4,7)\n",
    "#TODO Activity\n",
    "# Solucion == 9"
   ]
  },
  {
   "cell_type": "markdown",
   "metadata": {},
   "source": []
  },
  {
   "cell_type": "markdown",
   "metadata": {},
   "source": [
    "## Restructurando la dimensión de una serie"
   ]
  },
  {
   "cell_type": "code",
   "execution_count": null,
   "metadata": {},
   "outputs": [],
   "source": [
    "a = np.arange(10)\n",
    "print(a.shape)\n",
    "print(a.reshape(2,5))\n",
    "print(a)\n"
   ]
  },
  {
   "cell_type": "code",
   "execution_count": null,
   "metadata": {},
   "outputs": [],
   "source": [
    "a = a.reshape(2,5)\n",
    "print(a.T)\n",
    "print(\"-\"*10)\n",
    "print(np.hstack(a))  # https://numpy.org/doc/stable/reference/generated/numpy.hstack.html\n"
   ]
  },
  {
   "cell_type": "code",
   "execution_count": null,
   "metadata": {},
   "outputs": [],
   "source": [
    "b = np.arange(10,20).reshape(2,5)\n",
    "print(b)\n",
    "print(\"-\"*10)\n",
    "print(np.hstack((a,b))) # axis-1\n",
    "print(np.vstack((a,b))) # axis-0\n"
   ]
  },
  {
   "cell_type": "code",
   "execution_count": null,
   "metadata": {},
   "outputs": [],
   "source": [
    "c = np.dstack((a,b)) # axis-2  https://numpy.org/doc/stable/reference/generated/numpy.dstack.html\n",
    "print(c)\n",
    "print(c.shape)"
   ]
  },
  {
   "cell_type": "code",
   "execution_count": null,
   "metadata": {},
   "outputs": [],
   "source": [
    "print(a)\n",
    "print(np.ravel(a)) # https://numpy.org/doc/stable/reference/generated/numpy.ravel.html\n",
    "\n",
    "print(np.ravel(a,order=\"F\")) # ‘F’ means to index the elements in column-major,"
   ]
  },
  {
   "cell_type": "code",
   "execution_count": null,
   "metadata": {},
   "outputs": [],
   "source": [
    "print(a)\n",
    "print(np.split(a,2))\n",
    "c1,c2 = np.split(a,2)\n",
    "\n",
    "print(\"-\"*10)\n",
    "\n",
    "print(c1)\n",
    "print(c1.shape)\n",
    "print(np.ravel(c1))\n",
    "print(c2)"
   ]
  },
  {
   "cell_type": "code",
   "execution_count": null,
   "metadata": {},
   "outputs": [],
   "source": [
    "print(np.concatenate((a,b)))\n",
    "print(\"-\"*10)\n",
    "print(np.concatenate((a,b),axis=1))"
   ]
  },
  {
   "cell_type": "code",
   "execution_count": null,
   "metadata": {},
   "outputs": [],
   "source": [
    "# https://pillow.readthedocs.io/en/stable/"
   ]
  },
  {
   "cell_type": "code",
   "execution_count": null,
   "metadata": {},
   "outputs": [],
   "source": [
    "%pip install pillow"
   ]
  },
  {
   "cell_type": "code",
   "execution_count": null,
   "metadata": {},
   "outputs": [],
   "source": [
    "from PIL import Image\n",
    "\n",
    "image = Image.open('images/gatito.jpeg')\n",
    "# summarize some details about the image\n",
    "print(image.format)\n",
    "print(image.size)\n",
    "print(image.mode)\n",
    "\n",
    "display(image)\n"
   ]
  },
  {
   "cell_type": "code",
   "execution_count": null,
   "metadata": {},
   "outputs": [],
   "source": [
    "data = np.asarray(image)\n",
    "print(len(data[0]))\n",
    "print(data.size)\n",
    "print(data.shape)\n",
    "w,h,_ = data.shape"
   ]
  },
  {
   "cell_type": "code",
   "execution_count": null,
   "metadata": {},
   "outputs": [],
   "source": [
    "print(data[w//2,h//2])\n",
    "data2 = data.copy()\n",
    "data2[w//2,h//2] = np.array([255,0,0]) # a red point\n",
    "\n",
    "img = Image.fromarray(data2, 'RGB')\n",
    "\n",
    "display(img)\n"
   ]
  },
  {
   "cell_type": "code",
   "execution_count": null,
   "metadata": {},
   "outputs": [],
   "source": [
    "center_mask = w//2,h//2\n",
    "rectangle_size = int(w*0.1)\n",
    "mask = np.ones(rectangle_size*rectangle_size).reshape(rectangle_size,rectangle_size)\n",
    "print(mask.shape)\n",
    "\n",
    "for x in range(w//2,w//2+rectangle_size):\n",
    "    for y in range(h//2,h//2+rectangle_size):\n",
    "        data2[x,y] =  np.array([255,0,0])\n",
    "\n",
    "\n",
    "img = Image.fromarray(data2, 'RGB')\n",
    "display(img)\n",
    "\n",
    "# REALMENTE, el cuadrado está en el centro?\n"
   ]
  },
  {
   "cell_type": "markdown",
   "metadata": {},
   "source": [
    "## Actividad\n",
    "\n",
    "Transforma la imagen en tonos grises. Solo con numpy!!!"
   ]
  },
  {
   "cell_type": "code",
   "execution_count": null,
   "metadata": {},
   "outputs": [],
   "source": [
    "#WAY 1:\n",
    "# \n",
    "data = np.asarray(image)\n",
    "data2 = data.copy()\n",
    "for x in range(data2.shape[0]): #no eficiente\n",
    "     for y in range(data2.shape[1]):\n",
    "         data2[x,y] = np.repeat(data[x,y].mean(),3)\n",
    "\n",
    "img = Image.fromarray(data2, 'RGB')\n",
    "display(img)"
   ]
  },
  {
   "cell_type": "markdown",
   "metadata": {},
   "source": [
    "## Operaciones de Slicing"
   ]
  },
  {
   "cell_type": "code",
   "execution_count": null,
   "metadata": {},
   "outputs": [],
   "source": [
    "a = np.arange(300).reshape(10,10,3)\n",
    "print(a[:1])\n",
    "print(\"-\"*10)\n",
    "\n",
    "print(a[0][0])\n",
    "print(\"-\"*10)\n",
    "\n",
    "print(a[:,0])\n",
    "print(\"-\"*10)\n",
    "\n",
    "print(a[:,2:4])\n",
    "print(\"-\"*10)"
   ]
  },
  {
   "cell_type": "code",
   "execution_count": null,
   "metadata": {},
   "outputs": [],
   "source": [
    "a = np.arange(300).reshape(10,10,3)\n",
    "print(a[:1])\n",
    "print(\"-\"*10)\n",
    "\n",
    "print(a[:,:,0])\n",
    "\n",
    "print(\"-\"*10)\n",
    "\n",
    "r = 0.2126\n",
    "print(a[:,:,0]*r)\n"
   ]
  },
  {
   "cell_type": "code",
   "execution_count": null,
   "metadata": {},
   "outputs": [],
   "source": [
    "# WAY2\n",
    "# https://e2eml.school/convert_rgb_to_grayscale.html\n",
    "\n",
    "\n",
    "# TODO\n",
    "\n",
    "print(data.shape)\n",
    "img = Image.fromarray(np.uint8(data))\n",
    "display(img)\n",
    "\n"
   ]
  },
  {
   "cell_type": "code",
   "execution_count": null,
   "metadata": {},
   "outputs": [],
   "source": [
    "# Way 3\n",
    "\n",
    "rgbcorrection = np.array([0.2989, 0.5870, 0.1140])\n",
    "\n",
    "data = np.asarray(image)\n",
    "print(data.shape)\n",
    "data2 = np.dot(data,rgbcorrection)\n",
    "\n",
    "print(data2.shape)\n",
    "img = Image.fromarray(np.uint8(data2))\n",
    "display(img)\n",
    "\n",
    "\n",
    "# as a plot\n",
    "import matplotlib.pyplot as plt\n",
    "plt.imshow(data2, cmap = plt.get_cmap(name = 'gray'))\n",
    "plt.show()"
   ]
  },
  {
   "cell_type": "markdown",
   "metadata": {},
   "source": []
  },
  {
   "cell_type": "markdown",
   "metadata": {},
   "source": [
    "## Funciones propias vectorizadas\n"
   ]
  },
  {
   "cell_type": "code",
   "execution_count": null,
   "metadata": {},
   "outputs": [],
   "source": [
    "temperatura = np.random.randint(-10,43,1000)"
   ]
  },
  {
   "cell_type": "code",
   "execution_count": null,
   "metadata": {},
   "outputs": [],
   "source": [
    "temperatura[temperatura>33]"
   ]
  },
  {
   "cell_type": "code",
   "execution_count": null,
   "metadata": {},
   "outputs": [],
   "source": [
    "def isHot(grados):\n",
    "    if grados>33 and grados<=40:\n",
    "        return True\n",
    "\n",
    "def isHot(grados):\n",
    "    return grados>33 and grados<=40\n",
    "        \n",
    "fHot = np.vectorize(isHot)\n",
    "print(fHot(temperatura))"
   ]
  },
  {
   "cell_type": "code",
   "execution_count": null,
   "metadata": {},
   "outputs": [],
   "source": [
    "temperatura[fHot(temperatura)]"
   ]
  },
  {
   "cell_type": "markdown",
   "metadata": {},
   "source": []
  },
  {
   "cell_type": "code",
   "execution_count": null,
   "metadata": {},
   "outputs": [],
   "source": [
    "#Alternativa\n",
    "# https://numpy.org/doc/stable/reference/routines.logic.html\n",
    "np.logical_and(temperatura>30,temperatura<=40)"
   ]
  },
  {
   "cell_type": "code",
   "execution_count": null,
   "metadata": {},
   "outputs": [],
   "source": [
    "isHot = lambda x: (x>30 and x<=40)\n",
    "index = list(map(isHot,temperatura))\n",
    "temperatura[index]"
   ]
  },
  {
   "cell_type": "markdown",
   "metadata": {},
   "source": [
    "### Más funciones lógicas"
   ]
  },
  {
   "cell_type": "code",
   "execution_count": null,
   "metadata": {},
   "outputs": [],
   "source": [
    "np.random.seed(2022)\n",
    "a = np.random.randint(-90,0,100)\n",
    "\n",
    "index = np.where(a<-80) # Alerta: Son índices\n",
    "print(index)\n",
    "print(a[index])"
   ]
  },
  {
   "cell_type": "code",
   "execution_count": null,
   "metadata": {},
   "outputs": [],
   "source": [
    "print(np.logical_or(a<-80,a<-90))\n"
   ]
  },
  {
   "cell_type": "code",
   "execution_count": null,
   "metadata": {},
   "outputs": [],
   "source": [
    "print(np.logical_not(np.logical_or(a<-40,a<-90)))"
   ]
  },
  {
   "cell_type": "markdown",
   "metadata": {},
   "source": [
    "### Actividades\n",
    "\n",
    "¿Cómo podemos conseguir esta transformación?\n",
    "\n",
    "De\n",
    "```\n",
    "array([0, 1, 2, 3, 4, 5, 6, 7, 8, 9])\n",
    "```\n",
    "a\n",
    "```\n",
    "array([ 0, -1,  2, -1,  4, -1,  6, -1,  8, -1])\n",
    "```"
   ]
  },
  {
   "cell_type": "code",
   "execution_count": null,
   "metadata": {},
   "outputs": [],
   "source": []
  },
  {
   "cell_type": "markdown",
   "metadata": {},
   "source": [
    "## Operaciones con Grupos"
   ]
  },
  {
   "cell_type": "markdown",
   "metadata": {},
   "source": []
  },
  {
   "cell_type": "code",
   "execution_count": null,
   "metadata": {},
   "outputs": [],
   "source": [
    "np.random.seed(2022)\n",
    "a = np.random.randint(-30,45,100)\n",
    "print(a)"
   ]
  },
  {
   "cell_type": "code",
   "execution_count": null,
   "metadata": {},
   "outputs": [],
   "source": [
    "9 in a"
   ]
  },
  {
   "cell_type": "code",
   "execution_count": null,
   "metadata": {},
   "outputs": [],
   "source": [
    "if -14 in a and not -6 in a:\n",
    "    print(\"Something strange\")\n",
    "elif 45 in a:\n",
    "    print(\"No 11\")\n",
    "else:\n",
    "    print(\"Pues está el -14 y el -6, y no el 45\")"
   ]
  },
  {
   "cell_type": "code",
   "execution_count": null,
   "metadata": {},
   "outputs": [],
   "source": [
    "#https://numpy.org/doc/stable/reference/generated/numpy.unique.html?highlight=unique#numpy.unique\n",
    "\n",
    "unique_a = np.unique(a)  # sort but\n",
    "print(unique_a)"
   ]
  },
  {
   "cell_type": "code",
   "execution_count": null,
   "metadata": {},
   "outputs": [],
   "source": [
    "unique_a, freq_a = np.unique(a,return_counts=True) \n",
    "print(a)\n",
    "print(len(a))\n",
    "print(\"-\"*10)\n",
    "print(freq_a)\n",
    "print(len(freq_a))\n",
    "print(\"-\"*10)\n",
    "print(unique_a)\n",
    "print(len(unique_a))\n",
    "\n",
    "# ¿Cuántos elementos repetidos hay?"
   ]
  },
  {
   "cell_type": "code",
   "execution_count": null,
   "metadata": {},
   "outputs": [],
   "source": [
    "unique_a,index_a,freq_a = np.unique(a,return_counts=True,return_index=True) \n",
    "print(freq_a)\n",
    "print(index_a)\n",
    "print(\"-\"*10)\n",
    "print(np.where(freq_a==4))\n",
    "print(unique_a[17]) # se repite cuatro veces\n",
    "print(unique_a[33]) # se repite cuatro veces\n",
    "print(unique_a[50]) # se repite cuatro veces\n",
    "\n",
    "print(a[np.where(a==-7)])"
   ]
  },
  {
   "cell_type": "code",
   "execution_count": null,
   "metadata": {},
   "outputs": [],
   "source": [
    "np.sort(freq_a)"
   ]
  },
  {
   "cell_type": "code",
   "execution_count": null,
   "metadata": {},
   "outputs": [],
   "source": [
    "\n",
    "print(np.array([0,4,1,2,5,7,9])[::-1])\n",
    "print(np.argsort(np.array([0,4,1,2,5,7,9])))\n",
    "print(np.argsort(np.array([0,4,1,2,5,7,9]))[::-1])\n",
    "\n",
    "print(\"-\"*10)\n",
    "\n",
    "index_sorted = np.argsort(freq_a)[::-1] #https://numpy.org/doc/stable/reference/generated/numpy.argsort.html\n",
    "print(index_sorted)\n",
    "\n"
   ]
  },
  {
   "cell_type": "code",
   "execution_count": null,
   "metadata": {},
   "outputs": [],
   "source": [
    "unique_a[index_sorted]"
   ]
  },
  {
   "cell_type": "markdown",
   "metadata": {},
   "source": [
    "### Actividades\n",
    "\n",
    "#### Actividad 1\n",
    "\n",
    "- ¿Cuál es el color más frecuente en la imagen del gatito?\n",
    "- Sustituye esos pixeles por un color azul: rgb=(0,0,255)"
   ]
  },
  {
   "cell_type": "code",
   "execution_count": null,
   "metadata": {},
   "outputs": [],
   "source": [
    "from PIL import Image\n",
    "\n",
    "image = Image.open('images/gatito.jpeg')\n",
    "#TODO\n"
   ]
  },
  {
   "cell_type": "code",
   "execution_count": null,
   "metadata": {},
   "outputs": [],
   "source": [
    "a = np.arange(10)\n",
    "b = np.arange(5,15)\n",
    "print(a)\n",
    "print(b)\n",
    "print(\"-\"*10)\n",
    "print(np.in1d(a,b))\n",
    "print(np.intersect1d(a,b))\n",
    "print(\"-\"*10)\n",
    "print(np.setdiff1d(a,b))\n",
    "print(np.setdiff1d(b,a))\n",
    "print(\"-\"*10)\n",
    "print(np.union1d(a,b))"
   ]
  },
  {
   "cell_type": "markdown",
   "metadata": {},
   "source": [
    "#### Actividad 2\n",
    "\n",
    "¿Cómo podemos conseguir encontrar valores pico, valores mayores sobre sus vecinos?\n",
    "\n",
    "```\n",
    "array([0, 1, 2, 3, 4, 54, 6, 7, 80, 9])\n",
    "array([5, 8])\n",
    "```\n",
    "\n",
    "Un par de pistas: \n",
    "- np.diff https://numpy.org/doc/stable/reference/generated/numpy.diff.html?highlight=diff#numpy.diff\n",
    "- np.sign https://numpy.org/doc/stable/reference/generated/numpy.sign.html?highlight=sign#numpy.sign\n",
    "- \n",
    "  "
   ]
  },
  {
   "cell_type": "markdown",
   "metadata": {},
   "source": []
  },
  {
   "cell_type": "code",
   "execution_count": null,
   "metadata": {},
   "outputs": [],
   "source": [
    "a = np.array([0, 1, 2, 3, 4, 54, 6, 7, 80, 9])\n",
    "# TODO"
   ]
  },
  {
   "cell_type": "markdown",
   "metadata": {},
   "source": [
    "#### Actividad 3\n",
    "\n",
    "Existe alguna columna o fila que sólo tenga una única incógnita?\n",
    "```\n",
    "sudoku = np.array([[5,3,0,0,7,0,0,0,0],\n",
    "                 [6,0,0,1,9,5,0,0,0],\n",
    "                 [1,9,8,0,0,0,0,6,0],\n",
    "                 [8,0,0,0,6,0,0,0,3],\n",
    "                 [4,0,0,8,0,3,0,0,1],\n",
    "                 [7,0,0,0,2,0,0,0,6],\n",
    "                 [0,6,0,0,0,0,2,8,0],\n",
    "                 [3,8,0,4,1,9,7,2,5],\n",
    "                 [4,0,0,0,8,0,0,7,9]])\n",
    "\n",
    "```"
   ]
  },
  {
   "cell_type": "markdown",
   "metadata": {},
   "source": []
  },
  {
   "cell_type": "markdown",
   "metadata": {},
   "source": [
    "## Funciones de estadística"
   ]
  },
  {
   "cell_type": "code",
   "execution_count": null,
   "metadata": {},
   "outputs": [],
   "source": [
    "np.random.seed(2022)\n",
    "temperatures= np.random.normal(loc=17,scale=20,size=1000000)\n",
    "\n",
    "\n",
    "# https://numpy.org/doc/stable/reference/routines.statistics.html\n",
    "\n",
    "print(temperatures.mean())\n"
   ]
  },
  {
   "cell_type": "code",
   "execution_count": null,
   "metadata": {},
   "outputs": [],
   "source": [
    "import matplotlib.pyplot as plot\n",
    "\n",
    "fig, ax = plot.subplots()\n",
    "ax.plot(np.sort(temperatures))"
   ]
  },
  {
   "cell_type": "code",
   "execution_count": null,
   "metadata": {},
   "outputs": [],
   "source": [
    "np.quantile(temperatures,0.5)"
   ]
  },
  {
   "cell_type": "code",
   "execution_count": null,
   "metadata": {},
   "outputs": [],
   "source": [
    "np.percentile(a,90) #https://numpy.org/doc/stable/reference/generated/numpy.percentile.html#numpy.percentile"
   ]
  },
  {
   "cell_type": "code",
   "execution_count": null,
   "metadata": {},
   "outputs": [],
   "source": [
    "# https://numpy.org/doc/stable/reference/generated/numpy.histogram.html#numpy.histogram\n",
    "hist, bin_edges = np.histogram(temperatures)\n",
    "print(hist)\n",
    "print(bin_edges)\n",
    "\n",
    "print(np.sum(hist))\n"
   ]
  },
  {
   "cell_type": "code",
   "execution_count": null,
   "metadata": {},
   "outputs": [],
   "source": [
    "import matplotlib.pyplot as plt\n",
    "_ = plt.hist(temperatures, bins='auto')  # arguments are passed to np.histogram\n",
    "plt.title(\"Histogram with 'auto' bins\")\n",
    "plt.show()"
   ]
  },
  {
   "cell_type": "code",
   "execution_count": null,
   "metadata": {},
   "outputs": [],
   "source": [
    "# https://numpy.org/doc/stable/reference/generated/numpy.linspace.html\n",
    "\n",
    "space = np.linspace(0,1,len(temperatures))\n",
    "print(space[:10])"
   ]
  },
  {
   "cell_type": "code",
   "execution_count": null,
   "metadata": {},
   "outputs": [],
   "source": [
    "import matplotlib.pylab as plt\n",
    "\n",
    "temperatures_sorted = np.sort(temperatures)\n",
    "fig, ax = plt.subplots()\n",
    "ax.plot(temperatures_sorted,space)\n",
    "#CDF?"
   ]
  },
  {
   "cell_type": "markdown",
   "metadata": {},
   "source": [
    "# Gestión de alertas y errores "
   ]
  },
  {
   "cell_type": "code",
   "execution_count": null,
   "metadata": {},
   "outputs": [],
   "source": [
    "a , b = 0, 3\n",
    "c = b/a"
   ]
  },
  {
   "cell_type": "code",
   "execution_count": null,
   "metadata": {},
   "outputs": [],
   "source": [
    "a , b = 0, 3\n",
    "try:\n",
    "    c = b/a\n",
    "except:\n",
    "    print(\"error\")\n",
    "finally:\n",
    "    print(\"Intento realizar una linea alternativa de ejecucion\")\n",
    "\n",
    "print(\"ESto siguye\")"
   ]
  },
  {
   "cell_type": "code",
   "execution_count": null,
   "metadata": {},
   "outputs": [],
   "source": [
    "a , b = 0, 3\n",
    "try:\n",
    "    c = b/a\n",
    "except ZeroDivisionError:\n",
    "    print(\"error\")\n",
    "finally:\n",
    "    print(\"Intento realizar una linea alternativa de ejecucion\")"
   ]
  },
  {
   "cell_type": "code",
   "execution_count": null,
   "metadata": {},
   "outputs": [],
   "source": [
    "a , b = 0, 3\n",
    "d={\"a\":0,\"b\":-1}\n",
    "try:\n",
    "    print(d[\"c\"])\n",
    "except ZeroDivisionError:\n",
    "    print(\"error\")\n",
    "finally:\n",
    "    print(\"Intento realizar una linea alternativa de ejecucion\")"
   ]
  },
  {
   "cell_type": "code",
   "execution_count": null,
   "metadata": {},
   "outputs": [],
   "source": [
    "a , b = 0, 3\n",
    "d={\"a\":0,\"b\":-1}\n",
    "try:\n",
    "    print(d[\"c\"])\n",
    "except ZeroDivisionError:\n",
    "    print(\"hay un cero\")\n",
    "except KeyError:\n",
    "    print(\"Key no existente\")\n",
    "finally:\n",
    "    print(\"Intento realizar una linea alternativa de ejecucion\")"
   ]
  },
  {
   "cell_type": "markdown",
   "metadata": {},
   "source": [
    "Docs : https://docs.python.org/3/tutorial/errors.html"
   ]
  },
  {
   "cell_type": "code",
   "execution_count": null,
   "metadata": {},
   "outputs": [],
   "source": [
    "a , b = np.arange(10), np.arange(10,20)\n",
    "\n",
    "c = b/a\n",
    "print(c)"
   ]
  },
  {
   "cell_type": "code",
   "execution_count": null,
   "metadata": {},
   "outputs": [],
   "source": [
    "import math\n",
    "print(math.inf in c)\n",
    "print(c * np.random.rand(10))"
   ]
  },
  {
   "cell_type": "code",
   "execution_count": null,
   "metadata": {},
   "outputs": [],
   "source": [
    "try:\n",
    "    c = b/a\n",
    "except RuntimeWarning:\n",
    "    print(\"Capturo warning ? \") # No"
   ]
  },
  {
   "cell_type": "code",
   "execution_count": null,
   "metadata": {},
   "outputs": [],
   "source": [
    "# Puedo ignorarlos\n",
    "import warnings\n",
    "warnings.filterwarnings(\"ignore\")\n",
    "c = b/a\n",
    "print(c)"
   ]
  },
  {
   "cell_type": "code",
   "execution_count": null,
   "metadata": {},
   "outputs": [],
   "source": [
    "# Puedo gestionarlos como una excepción\n",
    "np.seterr(all='raise')\n",
    "c = b/a\n",
    "print(c)"
   ]
  },
  {
   "cell_type": "code",
   "execution_count": null,
   "metadata": {},
   "outputs": [],
   "source": [
    "try:\n",
    "    c = b/a\n",
    "except FloatingPointError:\n",
    "    print(\"Capturo warning ? \") # Yes"
   ]
  },
  {
   "cell_type": "markdown",
   "metadata": {},
   "source": [
    "## Reflexiones sobre el rendimiento computacional y algorítmico\n",
    "\n",
    "Principales métricas percibidas por el usuario:\n",
    "- *tiempo de respuesta*, tiempo de servicio y tiempo de espera\n",
    "\n",
    "Principales métricas para el sistema:\n",
    "- Productividad (trabajos/tiempo)\n",
    "\n",
    "Las métricas están influidas porque hay una *demanda* sobre el servicio. Mayor demanda ->  ???\n",
    "\n",
    "El rendimiento está influido por:\n",
    "- Hardware: tecnología, arquitectura, \n",
    "- Software: sistemas operativos, lenguaje de programación, aplicaciones \n",
    "- *Vuestra manera de programar!*"
   ]
  },
  {
   "cell_type": "code",
   "execution_count": null,
   "metadata": {},
   "outputs": [],
   "source": [
    "import time\n",
    "\n",
    "start = time.time()\n",
    "# do something\n",
    "print(\"Response time: %s seconds\"%(time.time()-start))"
   ]
  },
  {
   "cell_type": "code",
   "execution_count": null,
   "metadata": {},
   "outputs": [],
   "source": [
    "import numpy as np\n",
    "import time\n",
    "serie = np.random.random(10000000)\n",
    "\n",
    "start = time.time()\n",
    "b = []\n",
    "for value in serie:\n",
    "    try:\n",
    "        b.append(math.sqrt(value))\n",
    "    except:\n",
    "        b.append(0)\n",
    "end1 = time.time()-start\n",
    "print(\"Response time: %s seconds\"%(end1))"
   ]
  },
  {
   "cell_type": "code",
   "execution_count": null,
   "metadata": {},
   "outputs": [],
   "source": [
    "start = time.time()\n",
    "b = np.sqrt(serie)\n",
    "end2 = time.time()-start\n",
    "print(\"Response time: %s seconds\"%(end2))"
   ]
  },
  {
   "cell_type": "code",
   "execution_count": null,
   "metadata": {},
   "outputs": [],
   "source": [
    "speedup = end1/end2\n",
    "print(speedup)\n",
    "print(\"El programa 2 es %0.2f veces más rápido que el programa 1\"%speedup)"
   ]
  },
  {
   "cell_type": "markdown",
   "metadata": {},
   "source": [
    "Si necesitáis 1 hora de ejecución del programa 1, con el segundo solo,  3.8199 minutos. <br/>\n",
    "Si necesitáis 24 horas de ejecución del programa 1, con el segundo solo, 1.527 horas."
   ]
  },
  {
   "cell_type": "markdown",
   "metadata": {},
   "source": [
    "<b>Atención</b> las métricas de rendimiento suelen seguir una distribución exponencial. NO SON LINEALES!!!!"
   ]
  },
  {
   "cell_type": "code",
   "execution_count": null,
   "metadata": {},
   "outputs": [],
   "source": [
    "times1 = []\n",
    "for size in range(10,1000000,1000):\n",
    "    serie = np.random.random(size)\n",
    "    start = time.time()\n",
    "    b = []\n",
    "    for value in serie:\n",
    "        try:\n",
    "            b.append(math.sqrt(value))\n",
    "        except:\n",
    "            b.append(0)\n",
    "    end1 = time.time()-start\n",
    "    times1.append(end1)\n",
    "\n",
    "print(\".\")\n",
    "times2 = []\n",
    "for size in range(10,1000000,1000):\n",
    "    serie = np.random.random(size)\n",
    "    start = time.time()\n",
    "    b = np.sqrt(serie)\n",
    "    end2 = time.time()-start\n",
    "    times2.append(end2)\n"
   ]
  },
  {
   "cell_type": "code",
   "execution_count": null,
   "metadata": {},
   "outputs": [],
   "source": [
    "import matplotlib.pyplot as plt\n",
    "x = list(range(len(times1)))\n",
    "fig, ax = plt.subplots()\n",
    "ax.plot(x, times1, label = \"programa 1\")\n",
    "ax.plot(x, times2, label = \"programa 2\")\n",
    "ax.legend()\n",
    "plt.show()\n",
    "\n",
    "# No es suficientemente complejo (o sí -depende de arquitectura) para crear la curva "
   ]
  },
  {
   "cell_type": "markdown",
   "metadata": {},
   "source": [
    "### Librería Numba \n",
    "\n",
    "https://numba.pydata.org/"
   ]
  },
  {
   "cell_type": "code",
   "execution_count": null,
   "metadata": {},
   "outputs": [],
   "source": [
    "!pip install numba"
   ]
  },
  {
   "cell_type": "code",
   "execution_count": null,
   "metadata": {},
   "outputs": [],
   "source": [
    "import multiprocessing\n",
    "\n",
    "multiprocessing.cpu_count()"
   ]
  },
  {
   "cell_type": "code",
   "execution_count": null,
   "metadata": {},
   "outputs": [],
   "source": [
    "from numba import njit\n",
    "import random\n",
    "\n",
    "\n",
    "def monte_carlo_pi_sinParalelizar(nsamples):\n",
    "    acc = 0\n",
    "    for i in range(nsamples):\n",
    "        x = random.random()\n",
    "        y = random.random()\n",
    "        if (x ** 2 + y ** 2) < 1.0:\n",
    "            acc += 1\n",
    "    return 4.0 * acc / nsamples\n",
    "\n",
    "@njit\n",
    "def monte_carlo_pi(nsamples):\n",
    "    acc = 0\n",
    "    for i in range(nsamples):\n",
    "        x = random.random()\n",
    "        y = random.random()\n",
    "        if (x ** 2 + y ** 2) < 1.0:\n",
    "            acc += 1\n",
    "    return 4.0 * acc / nsamples"
   ]
  },
  {
   "cell_type": "code",
   "execution_count": null,
   "metadata": {},
   "outputs": [],
   "source": [
    "%timeit monte_carlo_pi_sinParalelizar(100)"
   ]
  },
  {
   "cell_type": "code",
   "execution_count": null,
   "metadata": {},
   "outputs": [],
   "source": [
    "%timeit monte_carlo_pi(100)"
   ]
  },
  {
   "cell_type": "markdown",
   "metadata": {},
   "source": [
    "### Escenario de mal rendimiento ..."
   ]
  },
  {
   "cell_type": "markdown",
   "metadata": {},
   "source": [
    "Como traer \"mal\" datos de una BBDD <br/>\n",
    "<img src=\"images/consultaSQL.png\" width=\"80%\" />\n",
    "\n"
   ]
  },
  {
   "cell_type": "markdown",
   "metadata": {},
   "source": [
    "## Actividad Final\n",
    "\n",
    "Con estos tres catálogos de datos:\n",
    "- A) https://datos.gob.es/es/catalogo/ea0010587-balears-illes-por-municipios-y-fenomeno-demografico-mnpd-identificador-api-t20-e301-fenom-a2020-l0-23007-px\n",
    "- B) https://data.cityofnewyork.us/Housing-Development/Speculation-Watch-List/adax-9mit\n",
    "- C) https://ec.europa.eu/eurostat/databrowser/view/gov_10a_exp/default/table?lang=en\n",
    "\n",
    "Debéis analizar o aplicar 4 indicadores mínimos de libre elección. Es decir, según la naturaleza de los datos elegid indicadores estadísticos u otros. Como ejemplo, os proporciono el primero:\n",
    "- Con A) Series por *nacidos vivos por residencia materna*, Serie ordenada por *fallecidos por el luegar de residencia*, medía y desviación de los cinco indicadores disponibles por municipio\n",
    "- Con B) ?\n",
    "- Con C) ?\n",
    "\n",
    "\n",
    "**REQUISITOS**\n",
    "- Tenéis que analizar los datos EXCLUSIVAMENTE con la librería de NUMPY\n",
    "- Se valorará la no inclusión de valores manuales, es decir, que el código sea robusto y lo más genérico posible.\n",
    "- Se valorará la inclusión de gráficas (plots).\n",
    "\n",
    "Entrega de la práctica: \n",
    "- Se subirá el enlace de vuestro github personal a la *Tarea* específica de Auladigital.\n",
    "- Se ha de realizar un notebook por cada catálogo de datos.\n",
    "- Hay que incluir un fichero README.md que contenga el informe de la práctica (indicadores utilizados, y aspectos y conclusiones extraidas de cada uno de ellos)\n",
    "- Se recomienda la siguiente estructura por directorios: /part2/numpy_activity/notebookA...."
   ]
  },
  {
   "cell_type": "markdown",
   "metadata": {},
   "source": []
  }
 ],
 "metadata": {
  "kernelspec": {
   "display_name": "my3110",
   "language": "python",
   "name": "python3"
  },
  "language_info": {
   "codemirror_mode": {
    "name": "ipython",
    "version": 3
   },
   "file_extension": ".py",
   "mimetype": "text/x-python",
   "name": "python",
   "nbconvert_exporter": "python",
   "pygments_lexer": "ipython3",
   "version": "3.11.0rc2"
  },
  "orig_nbformat": 4
 },
 "nbformat": 4,
 "nbformat_minor": 2
}
