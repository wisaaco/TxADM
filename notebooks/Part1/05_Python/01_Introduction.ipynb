{
 "cells": [
  {
   "cell_type": "markdown",
   "metadata": {
    "collapsed": false,
    "pycharm": {
     "name": "#%% md\n"
    }
   },
   "source": [
    "# El entorno de Python\n",
    "\n",
    "## Qué es python?\n",
    "\n",
    "**Python** es un lenguaje de programación interpretado cuya filosofía hace hincapié en una sintaxis que favorezca un código legible, fue creado por Guido van Rossum en 1991.\n",
    "\n",
    "En este segundo bloque de trabajo el lenguaje de programación que vamos a usar es **Python**, que es un lenguaje diseñado para que las aplicaciones que se escriban con él sean completamente independientes de la plataforma en la que se ejecutan. Esto significa que un programa escrito en este lenguaje se ejecutará sin ningún tipo de modificación en cualquier sistema informático, al menos en cualquier sistema que soporte **Python**."
   ]
  },
  {
   "cell_type": "code",
   "execution_count": 1,
   "metadata": {
    "collapsed": false,
    "pycharm": {
     "name": "#%%\n"
    }
   },
   "outputs": [
    {
     "name": "stdout",
     "output_type": "stream",
     "text": [
      "The Zen of Python, by Tim Peters\n",
      "\n",
      "Beautiful is better than ugly.\n",
      "Explicit is better than implicit.\n",
      "Simple is better than complex.\n",
      "Complex is better than complicated.\n",
      "Flat is better than nested.\n",
      "Sparse is better than dense.\n",
      "Readability counts.\n",
      "Special cases aren't special enough to break the rules.\n",
      "Although practicality beats purity.\n",
      "Errors should never pass silently.\n",
      "Unless explicitly silenced.\n",
      "In the face of ambiguity, refuse the temptation to guess.\n",
      "There should be one-- and preferably only one --obvious way to do it.\n",
      "Although that way may not be obvious at first unless you're Dutch.\n",
      "Now is better than never.\n",
      "Although never is often better than *right* now.\n",
      "If the implementation is hard to explain, it's a bad idea.\n",
      "If the implementation is easy to explain, it may be a good idea.\n",
      "Namespaces are one honking great idea -- let's do more of those!\n"
     ]
    }
   ],
   "source": [
    "import this"
   ]
  },
  {
   "cell_type": "markdown",
   "metadata": {
    "collapsed": false,
    "pycharm": {
     "name": "#%% md\n"
    }
   },
   "source": [
    "## Instalación de Python\n",
    "\n",
    "Instalar **Python** es muy sencillo, pero dependiendo del Sistema Operativo que tengamos deberemos realizar distintos pasos. Además, es posible que nuestro ordenador ya tenga una instalación del lenguaje.\n",
    "\n",
    "### Windows\n",
    "Para verificar si ya tenemos **Python** instalado, primero abriremos una terminal, por ejemplo, la aplicación _PowerShell_, la terminal de windows (línea de comandos) o _cmd.exe_. A continuación escribiremos:\n",
    "\n",
    "```\n",
    "python --version\n",
    "```\n",
    "\n",
    "Si esta consulta nos devuelve un texto similar a `Python 3.X.X` quiere decir que tenemos Python instalado y nos está indicando la versión. Para este curso toda versión superior o igual a la versión 3.7 será adecuada. Si no nos devuelve este mensaje entonces debemos acudir a la [web oficial de Python](https://www.python.org/downloads/) descargarlo e instalarlo.\n",
    "\n",
    "### MacOs\n",
    "\n",
    "Para verificar si ya tenemos **Python** instalado, primero abriremos una terminal y teclear el siguiente comando:\n",
    "\n",
    "```\n",
    "$ python3 --version\n",
    "```\n",
    "Si tenemos **Python** instalado en nuestro sistema, este comando debería responder con un número de versión. Por ejemplo, si **Python** 3.6.10 ya estuviera configurado en su computadora, el comando `python3` mostraría ese número de versión. Si este comando no ha devuelto nada, entonces debemos acudir a la [web oficial de Python](https://www.python.org/downloads/) descargarlo e instalarlo.\n"
   ]
  },
  {
   "cell_type": "markdown",
   "metadata": {
    "collapsed": false,
    "pycharm": {
     "name": "#%% md\n"
    }
   },
   "source": [
    "## VirtualEnv\n",
    "`virtualenv` es una herramienta (una aplicación) para crear entornos **Python** aislados. Puedes leer más al respecto en la [Documentación de Virtualenv] (<https://virtualenv.pypa.io/en/stable/>). La creación de este tipo de entornos es muy útil para trabajar con **Python**, ya que nos permite tener configuraciones de paquetes únicas para diferentes proyectos.\n",
    "\n",
    "### Instalación\n",
    "\n",
    "``virtualenv`` pertenece al núcleo de **Python**, así que deberíamos tenerlo instalado. Si intentamos ejecutar el comando ``virtualenv`` en una terminal y descubrimos que no está presente, podemos instalarlo usando el siguiente código [pip](https://docs.python.org/3/installing/index.html#basic-usage).\n",
    "\n",
    "```\n",
    "pip install virtualenv\n",
    "```\n",
    "Es probable que ``virtualenv.exe`` ahora se encuentre en el directorio de instalación de **Python** en el subdirectorio ``Scripts``.\n",
    "\n",
    "### Crear un entorno virtual de Python\n",
    "\n",
    " Para crear un nuevo entorno virtual, nos situaremos sobre la carpeta en la que queramos crear nuestro proyecto y ejecutaremos el comando ``virtualenv`` para crear el nuevo entorno virtual.\n",
    "\n",
    "Los siguientes comandos crearán un nuevo entorno virtual:\n",
    "\n",
    "```\n",
    "    cd path\\a\\mi\\proyecto\n",
    "    virtualenv --python C:\\Path\\a\\Python\\python.exe venv\n",
    "```\n",
    "Hay que tener en cuenta que:\n",
    "\n",
    "- El _path_ hasta Python se puede substituir con `python` si este está registrado en el path del sistema\n",
    "- Debéis substituir el nombre `venv` por el nombre que le queráis dar a vuestro entorno virtual\n",
    "\n",
    "\n",
    "### Activar el entorno virtual\n",
    "\n",
    "Ahora que tenemos un entorno virtual, necesitamos activarlo con el siguiente comando:\n",
    "\n",
    "```\n",
    " .\\venv\\Scripts\\activate\n",
    "```\n",
    "\n",
    "Si se tiene un sistema MacOs el comando es un poco diferente:\n",
    "\n",
    "```\n",
    "source /venv/bin/activate\n",
    "```\n",
    "\n",
    "Donde `venv` es el nombre de vuestro entorno virtual.\n",
    "\n",
    "Después de activar el entorno, nuestro símbolo del sistema se modificará para reflejar el cambio. En concreto aparecerá el nombre de nuestro entorno virtual al principio de la línea de comandos.\n",
    "\n",
    "\n",
    "### Desactivar el entorno virtual\n",
    "\n",
    "Para volver a la configuración normal del sistema, utilice el comando ``deactivate``. Después de ejecutar este comando, notaremos que el símbolo del sistema vuelve a la normalidad.\n"
   ]
  },
  {
   "cell_type": "markdown",
   "metadata": {
    "collapsed": false,
    "pycharm": {
     "name": "#%% md\n"
    }
   },
   "source": [
    "## Jupyter\n",
    "\n",
    "**Jupyter** es el entorno de desarrollo que usaremos en este curso, no es el único que existe, pero si que es uno de los más usados para la programación científica y el análisis de datos. Básicamente es una aplicación que se ejecuta en un navegador y que permite crear \"cuadernos\"  donde podemos mezclar texto y código.\n",
    "\n",
    "Instalaremos Jupyter en nuestro entorno virtual con el siguiente comando:\n",
    "\n",
    "```\n",
    "pip install notebook\n",
    "```\n",
    "\n",
    "Para ejecutar el programa ejecutaremos este otro comando\n",
    "\n",
    "```\n",
    "jupyter notebook\n",
    "```"
   ]
  },
  {
   "cell_type": "markdown",
   "metadata": {
    "collapsed": false,
    "pycharm": {
     "name": "#%% md\n"
    }
   },
   "source": [
    "## Recursos\n",
    "\n",
    "En la página web _Real Python_ tenéis un tutorial muy completo para instalar **Python**: [enlace](https://realpython.com/installing-python/).\n"
   ]
  }
 ],
 "metadata": {
  "kernelspec": {
   "display_name": "Python 3",
   "language": "python",
   "name": "python3"
  },
  "language_info": {
   "codemirror_mode": {
    "name": "ipython",
    "version": 2
   },
   "file_extension": ".py",
   "mimetype": "text/x-python",
   "name": "python",
   "nbconvert_exporter": "python",
   "pygments_lexer": "ipython2",
   "version": "3.9.7 (default, May 11 2022, 11:18:00) \n[Clang 13.1.6 (clang-1316.0.21.2.3)]"
  },
  "vscode": {
   "interpreter": {
    "hash": "1dd6de46b7c7be538353ccdeaa948031a5b4d43665739a26f55ca28b247c53cc"
   }
  }
 },
 "nbformat": 4,
 "nbformat_minor": 0
}
